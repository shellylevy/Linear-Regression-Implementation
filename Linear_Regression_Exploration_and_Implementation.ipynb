{
 "cells": [
  {
   "cell_type": "markdown",
   "metadata": {
    "nbgrader": {
     "grade": false,
     "grade_id": "cell-35def0d0f4b47a0a",
     "locked": true,
     "schema_version": 1,
     "solution": false
    }
   },
   "source": [
    "# Linear Regression\n",
    "\n",
    "## In this exercise you will perform the following:\n",
    "1. Load a dataset and perform basic data exploration using a powerful data science library called [pandas](https://pandas.pydata.org/pandas-docs/stable/).\n",
    "1. Preprocess the data for linear regression.\n",
    "1. Compute the cost and perform gradient descent in pure numpy in vectorized form.\n",
    "1. Fit a linear regression model using a single feature.\n",
    "1. Visualize your results using matplotlib.\n",
    "1. Perform multivariate linear regression.\n",
    "1. Pick the best features in the dataset.\n",
    "1. Experiment with adaptive learning rates."
   ]
  },
  {
   "cell_type": "code",
   "execution_count": 1,
   "metadata": {
    "nbgrader": {
     "grade": false,
     "grade_id": "cell-5ed0076cec86f623",
     "locked": true,
     "schema_version": 1,
     "solution": false
    }
   },
   "outputs": [],
   "source": [
    "import numpy as np # used for scientific computing\n",
    "import pandas as pd # used for data analysis and manipulation\n",
    "import matplotlib.pyplot as plt # used for visualization and plotting\n",
    "\n",
    "np.random.seed(42) \n",
    "\n",
    "# make matplotlib figures appear inline in the notebook\n",
    "%matplotlib inline\n",
    "plt.rcParams['figure.figsize'] = (14.0, 8.0) # set default size of plots\n",
    "plt.rcParams['image.interpolation'] = 'nearest'\n",
    "plt.rcParams['image.cmap'] = 'gray'"
   ]
  },
  {
   "cell_type": "markdown",
   "metadata": {
    "nbgrader": {
     "grade": false,
     "grade_id": "cell-916f46de8cde2ca7",
     "locked": true,
     "schema_version": 1,
     "solution": false
    }
   },
   "source": [
    "## Part 1: Data Preprocessing (10 Points)\n",
    "\n",
    "For the following exercise, we will use a dataset containing housing prices in King County, USA. The dataset contains 5,000 observations with 18 features and a single target value - the house price. \n",
    "\n",
    "First, we will read and explore the data using pandas and the `.read_csv` method. Pandas is an open source library providing high-performance, easy-to-use data structures and data analysis tools for the Python programming language."
   ]
  },
  {
   "cell_type": "code",
   "execution_count": 2,
   "metadata": {
    "nbgrader": {
     "grade": false,
     "grade_id": "cell-9ef8b2769c2c1949",
     "locked": true,
     "schema_version": 1,
     "solution": false
    }
   },
   "outputs": [],
   "source": [
    "# Read comma separated data\n",
    "df = pd.read_csv('data.csv') # Make sure this cell runs regardless of your absolute path.\n",
    "# df stands for dataframe, which is the default format for datasets in pandas"
   ]
  },
  {
   "cell_type": "markdown",
   "metadata": {
    "nbgrader": {
     "grade": false,
     "grade_id": "cell-6966afc155aa6616",
     "locked": true,
     "schema_version": 1,
     "solution": false
    }
   },
   "source": [
    "### Data Exploration\n",
    "A good practice in any data-oriented project is to first try and understand the data. Fortunately, pandas is built for that purpose. Start by looking at the top of the dataset using the `df.head()` command. This will be the first indication that you read your data properly, and that the headers are correct. Next, you can use `df.describe()` to show statistics on the data and check for trends and irregularities."
   ]
  },
  {
   "cell_type": "code",
   "execution_count": 3,
   "metadata": {},
   "outputs": [
    {
     "data": {
      "text/html": [
       "<div>\n",
       "<style scoped>\n",
       "    .dataframe tbody tr th:only-of-type {\n",
       "        vertical-align: middle;\n",
       "    }\n",
       "\n",
       "    .dataframe tbody tr th {\n",
       "        vertical-align: top;\n",
       "    }\n",
       "\n",
       "    .dataframe thead th {\n",
       "        text-align: right;\n",
       "    }\n",
       "</style>\n",
       "<table border=\"1\" class=\"dataframe\">\n",
       "  <thead>\n",
       "    <tr style=\"text-align: right;\">\n",
       "      <th></th>\n",
       "      <th>id</th>\n",
       "      <th>date</th>\n",
       "      <th>price</th>\n",
       "      <th>bedrooms</th>\n",
       "      <th>bathrooms</th>\n",
       "      <th>sqft_living</th>\n",
       "      <th>sqft_lot</th>\n",
       "      <th>floors</th>\n",
       "      <th>waterfront</th>\n",
       "      <th>view</th>\n",
       "      <th>condition</th>\n",
       "      <th>grade</th>\n",
       "      <th>sqft_above</th>\n",
       "      <th>yr_built</th>\n",
       "      <th>yr_renovated</th>\n",
       "      <th>zipcode</th>\n",
       "      <th>lat</th>\n",
       "      <th>long</th>\n",
       "      <th>sqft_living15</th>\n",
       "      <th>sqft_lot15</th>\n",
       "    </tr>\n",
       "  </thead>\n",
       "  <tbody>\n",
       "    <tr>\n",
       "      <th>0</th>\n",
       "      <td>7129300520</td>\n",
       "      <td>20141013T000000</td>\n",
       "      <td>221900.0</td>\n",
       "      <td>3</td>\n",
       "      <td>1.00</td>\n",
       "      <td>1180</td>\n",
       "      <td>5650</td>\n",
       "      <td>1.0</td>\n",
       "      <td>0</td>\n",
       "      <td>0</td>\n",
       "      <td>3</td>\n",
       "      <td>7</td>\n",
       "      <td>1180</td>\n",
       "      <td>1955</td>\n",
       "      <td>0</td>\n",
       "      <td>98178</td>\n",
       "      <td>47.5112</td>\n",
       "      <td>-122.257</td>\n",
       "      <td>1340</td>\n",
       "      <td>5650</td>\n",
       "    </tr>\n",
       "    <tr>\n",
       "      <th>1</th>\n",
       "      <td>6414100192</td>\n",
       "      <td>20141209T000000</td>\n",
       "      <td>538000.0</td>\n",
       "      <td>3</td>\n",
       "      <td>2.25</td>\n",
       "      <td>2570</td>\n",
       "      <td>7242</td>\n",
       "      <td>2.0</td>\n",
       "      <td>0</td>\n",
       "      <td>0</td>\n",
       "      <td>3</td>\n",
       "      <td>7</td>\n",
       "      <td>2170</td>\n",
       "      <td>1951</td>\n",
       "      <td>1991</td>\n",
       "      <td>98125</td>\n",
       "      <td>47.7210</td>\n",
       "      <td>-122.319</td>\n",
       "      <td>1690</td>\n",
       "      <td>7639</td>\n",
       "    </tr>\n",
       "    <tr>\n",
       "      <th>2</th>\n",
       "      <td>5631500400</td>\n",
       "      <td>20150225T000000</td>\n",
       "      <td>180000.0</td>\n",
       "      <td>2</td>\n",
       "      <td>1.00</td>\n",
       "      <td>770</td>\n",
       "      <td>10000</td>\n",
       "      <td>1.0</td>\n",
       "      <td>0</td>\n",
       "      <td>0</td>\n",
       "      <td>3</td>\n",
       "      <td>6</td>\n",
       "      <td>770</td>\n",
       "      <td>1933</td>\n",
       "      <td>0</td>\n",
       "      <td>98028</td>\n",
       "      <td>47.7379</td>\n",
       "      <td>-122.233</td>\n",
       "      <td>2720</td>\n",
       "      <td>8062</td>\n",
       "    </tr>\n",
       "    <tr>\n",
       "      <th>3</th>\n",
       "      <td>2487200875</td>\n",
       "      <td>20141209T000000</td>\n",
       "      <td>604000.0</td>\n",
       "      <td>4</td>\n",
       "      <td>3.00</td>\n",
       "      <td>1960</td>\n",
       "      <td>5000</td>\n",
       "      <td>1.0</td>\n",
       "      <td>0</td>\n",
       "      <td>0</td>\n",
       "      <td>5</td>\n",
       "      <td>7</td>\n",
       "      <td>1050</td>\n",
       "      <td>1965</td>\n",
       "      <td>0</td>\n",
       "      <td>98136</td>\n",
       "      <td>47.5208</td>\n",
       "      <td>-122.393</td>\n",
       "      <td>1360</td>\n",
       "      <td>5000</td>\n",
       "    </tr>\n",
       "    <tr>\n",
       "      <th>4</th>\n",
       "      <td>1954400510</td>\n",
       "      <td>20150218T000000</td>\n",
       "      <td>510000.0</td>\n",
       "      <td>3</td>\n",
       "      <td>2.00</td>\n",
       "      <td>1680</td>\n",
       "      <td>8080</td>\n",
       "      <td>1.0</td>\n",
       "      <td>0</td>\n",
       "      <td>0</td>\n",
       "      <td>3</td>\n",
       "      <td>8</td>\n",
       "      <td>1680</td>\n",
       "      <td>1987</td>\n",
       "      <td>0</td>\n",
       "      <td>98074</td>\n",
       "      <td>47.6168</td>\n",
       "      <td>-122.045</td>\n",
       "      <td>1800</td>\n",
       "      <td>7503</td>\n",
       "    </tr>\n",
       "  </tbody>\n",
       "</table>\n",
       "</div>"
      ],
      "text/plain": [
       "           id             date     price  bedrooms  bathrooms  sqft_living  \\\n",
       "0  7129300520  20141013T000000  221900.0         3       1.00         1180   \n",
       "1  6414100192  20141209T000000  538000.0         3       2.25         2570   \n",
       "2  5631500400  20150225T000000  180000.0         2       1.00          770   \n",
       "3  2487200875  20141209T000000  604000.0         4       3.00         1960   \n",
       "4  1954400510  20150218T000000  510000.0         3       2.00         1680   \n",
       "\n",
       "   sqft_lot  floors  waterfront  view  condition  grade  sqft_above  yr_built  \\\n",
       "0      5650     1.0           0     0          3      7        1180      1955   \n",
       "1      7242     2.0           0     0          3      7        2170      1951   \n",
       "2     10000     1.0           0     0          3      6         770      1933   \n",
       "3      5000     1.0           0     0          5      7        1050      1965   \n",
       "4      8080     1.0           0     0          3      8        1680      1987   \n",
       "\n",
       "   yr_renovated  zipcode      lat     long  sqft_living15  sqft_lot15  \n",
       "0             0    98178  47.5112 -122.257           1340        5650  \n",
       "1          1991    98125  47.7210 -122.319           1690        7639  \n",
       "2             0    98028  47.7379 -122.233           2720        8062  \n",
       "3             0    98136  47.5208 -122.393           1360        5000  \n",
       "4             0    98074  47.6168 -122.045           1800        7503  "
      ]
     },
     "execution_count": 3,
     "metadata": {},
     "output_type": "execute_result"
    }
   ],
   "source": [
    "df.head(5)"
   ]
  },
  {
   "cell_type": "code",
   "execution_count": 4,
   "metadata": {
    "nbgrader": {
     "grade": true,
     "grade_id": "cell-5bd0d6844b64ea1a",
     "locked": false,
     "points": 1,
     "schema_version": 1,
     "solution": true
    }
   },
   "outputs": [
    {
     "data": {
      "text/html": [
       "<div>\n",
       "<style scoped>\n",
       "    .dataframe tbody tr th:only-of-type {\n",
       "        vertical-align: middle;\n",
       "    }\n",
       "\n",
       "    .dataframe tbody tr th {\n",
       "        vertical-align: top;\n",
       "    }\n",
       "\n",
       "    .dataframe thead th {\n",
       "        text-align: right;\n",
       "    }\n",
       "</style>\n",
       "<table border=\"1\" class=\"dataframe\">\n",
       "  <thead>\n",
       "    <tr style=\"text-align: right;\">\n",
       "      <th></th>\n",
       "      <th>id</th>\n",
       "      <th>price</th>\n",
       "      <th>bedrooms</th>\n",
       "      <th>bathrooms</th>\n",
       "      <th>sqft_living</th>\n",
       "      <th>sqft_lot</th>\n",
       "      <th>floors</th>\n",
       "      <th>waterfront</th>\n",
       "      <th>view</th>\n",
       "      <th>condition</th>\n",
       "      <th>grade</th>\n",
       "      <th>sqft_above</th>\n",
       "      <th>yr_built</th>\n",
       "      <th>yr_renovated</th>\n",
       "      <th>zipcode</th>\n",
       "      <th>lat</th>\n",
       "      <th>long</th>\n",
       "      <th>sqft_living15</th>\n",
       "      <th>sqft_lot15</th>\n",
       "    </tr>\n",
       "  </thead>\n",
       "  <tbody>\n",
       "    <tr>\n",
       "      <th>count</th>\n",
       "      <td>5.000000e+03</td>\n",
       "      <td>5.000000e+03</td>\n",
       "      <td>5000.0000</td>\n",
       "      <td>5000.000000</td>\n",
       "      <td>5000.000000</td>\n",
       "      <td>5.000000e+03</td>\n",
       "      <td>5000.000000</td>\n",
       "      <td>5000.000000</td>\n",
       "      <td>5000.000000</td>\n",
       "      <td>5000.000000</td>\n",
       "      <td>5000.000000</td>\n",
       "      <td>5000.000000</td>\n",
       "      <td>5000.000000</td>\n",
       "      <td>5000.000000</td>\n",
       "      <td>5000.000000</td>\n",
       "      <td>5000.000000</td>\n",
       "      <td>5000.000000</td>\n",
       "      <td>5000.00000</td>\n",
       "      <td>5000.000000</td>\n",
       "    </tr>\n",
       "    <tr>\n",
       "      <th>mean</th>\n",
       "      <td>4.630823e+09</td>\n",
       "      <td>5.394699e+05</td>\n",
       "      <td>3.3714</td>\n",
       "      <td>2.062150</td>\n",
       "      <td>2061.036800</td>\n",
       "      <td>1.615893e+04</td>\n",
       "      <td>1.432600</td>\n",
       "      <td>0.009400</td>\n",
       "      <td>0.243000</td>\n",
       "      <td>3.455000</td>\n",
       "      <td>7.595200</td>\n",
       "      <td>1753.151000</td>\n",
       "      <td>1966.660800</td>\n",
       "      <td>95.052800</td>\n",
       "      <td>98078.812600</td>\n",
       "      <td>47.559312</td>\n",
       "      <td>-122.215864</td>\n",
       "      <td>1976.84520</td>\n",
       "      <td>13451.164600</td>\n",
       "    </tr>\n",
       "    <tr>\n",
       "      <th>std</th>\n",
       "      <td>2.870890e+09</td>\n",
       "      <td>3.873115e+05</td>\n",
       "      <td>0.9104</td>\n",
       "      <td>0.773592</td>\n",
       "      <td>923.727509</td>\n",
       "      <td>4.600220e+04</td>\n",
       "      <td>0.510793</td>\n",
       "      <td>0.096506</td>\n",
       "      <td>0.774643</td>\n",
       "      <td>0.677692</td>\n",
       "      <td>1.166537</td>\n",
       "      <td>818.390844</td>\n",
       "      <td>28.286855</td>\n",
       "      <td>425.234932</td>\n",
       "      <td>54.126332</td>\n",
       "      <td>0.139521</td>\n",
       "      <td>0.141807</td>\n",
       "      <td>674.73601</td>\n",
       "      <td>26514.749009</td>\n",
       "    </tr>\n",
       "    <tr>\n",
       "      <th>min</th>\n",
       "      <td>1.000102e+06</td>\n",
       "      <td>7.500000e+04</td>\n",
       "      <td>0.0000</td>\n",
       "      <td>0.000000</td>\n",
       "      <td>380.000000</td>\n",
       "      <td>6.090000e+02</td>\n",
       "      <td>1.000000</td>\n",
       "      <td>0.000000</td>\n",
       "      <td>0.000000</td>\n",
       "      <td>1.000000</td>\n",
       "      <td>3.000000</td>\n",
       "      <td>380.000000</td>\n",
       "      <td>1900.000000</td>\n",
       "      <td>0.000000</td>\n",
       "      <td>98001.000000</td>\n",
       "      <td>47.155900</td>\n",
       "      <td>-122.514000</td>\n",
       "      <td>620.00000</td>\n",
       "      <td>660.000000</td>\n",
       "    </tr>\n",
       "    <tr>\n",
       "      <th>25%</th>\n",
       "      <td>2.154075e+09</td>\n",
       "      <td>3.179062e+05</td>\n",
       "      <td>3.0000</td>\n",
       "      <td>1.500000</td>\n",
       "      <td>1410.000000</td>\n",
       "      <td>5.400000e+03</td>\n",
       "      <td>1.000000</td>\n",
       "      <td>0.000000</td>\n",
       "      <td>0.000000</td>\n",
       "      <td>3.000000</td>\n",
       "      <td>7.000000</td>\n",
       "      <td>1190.000000</td>\n",
       "      <td>1949.000000</td>\n",
       "      <td>0.000000</td>\n",
       "      <td>98033.000000</td>\n",
       "      <td>47.463675</td>\n",
       "      <td>-122.329000</td>\n",
       "      <td>1490.00000</td>\n",
       "      <td>5391.500000</td>\n",
       "    </tr>\n",
       "    <tr>\n",
       "      <th>50%</th>\n",
       "      <td>4.022900e+09</td>\n",
       "      <td>4.490000e+05</td>\n",
       "      <td>3.0000</td>\n",
       "      <td>2.000000</td>\n",
       "      <td>1890.000000</td>\n",
       "      <td>7.875000e+03</td>\n",
       "      <td>1.000000</td>\n",
       "      <td>0.000000</td>\n",
       "      <td>0.000000</td>\n",
       "      <td>3.000000</td>\n",
       "      <td>7.000000</td>\n",
       "      <td>1530.000000</td>\n",
       "      <td>1968.000000</td>\n",
       "      <td>0.000000</td>\n",
       "      <td>98070.000000</td>\n",
       "      <td>47.572850</td>\n",
       "      <td>-122.235000</td>\n",
       "      <td>1820.00000</td>\n",
       "      <td>7800.000000</td>\n",
       "    </tr>\n",
       "    <tr>\n",
       "      <th>75%</th>\n",
       "      <td>7.345078e+09</td>\n",
       "      <td>6.500000e+05</td>\n",
       "      <td>4.0000</td>\n",
       "      <td>2.500000</td>\n",
       "      <td>2500.000000</td>\n",
       "      <td>1.123400e+04</td>\n",
       "      <td>2.000000</td>\n",
       "      <td>0.000000</td>\n",
       "      <td>0.000000</td>\n",
       "      <td>4.000000</td>\n",
       "      <td>8.000000</td>\n",
       "      <td>2130.000000</td>\n",
       "      <td>1990.000000</td>\n",
       "      <td>0.000000</td>\n",
       "      <td>98118.000000</td>\n",
       "      <td>47.679200</td>\n",
       "      <td>-122.129000</td>\n",
       "      <td>2340.00000</td>\n",
       "      <td>10469.250000</td>\n",
       "    </tr>\n",
       "    <tr>\n",
       "      <th>max</th>\n",
       "      <td>9.842300e+09</td>\n",
       "      <td>7.060000e+06</td>\n",
       "      <td>9.0000</td>\n",
       "      <td>6.750000</td>\n",
       "      <td>10040.000000</td>\n",
       "      <td>1.651359e+06</td>\n",
       "      <td>3.500000</td>\n",
       "      <td>1.000000</td>\n",
       "      <td>4.000000</td>\n",
       "      <td>5.000000</td>\n",
       "      <td>13.000000</td>\n",
       "      <td>7680.000000</td>\n",
       "      <td>2015.000000</td>\n",
       "      <td>2015.000000</td>\n",
       "      <td>98199.000000</td>\n",
       "      <td>47.777600</td>\n",
       "      <td>-121.315000</td>\n",
       "      <td>5790.00000</td>\n",
       "      <td>434728.000000</td>\n",
       "    </tr>\n",
       "  </tbody>\n",
       "</table>\n",
       "</div>"
      ],
      "text/plain": [
       "                 id         price   bedrooms    bathrooms   sqft_living  \\\n",
       "count  5.000000e+03  5.000000e+03  5000.0000  5000.000000   5000.000000   \n",
       "mean   4.630823e+09  5.394699e+05     3.3714     2.062150   2061.036800   \n",
       "std    2.870890e+09  3.873115e+05     0.9104     0.773592    923.727509   \n",
       "min    1.000102e+06  7.500000e+04     0.0000     0.000000    380.000000   \n",
       "25%    2.154075e+09  3.179062e+05     3.0000     1.500000   1410.000000   \n",
       "50%    4.022900e+09  4.490000e+05     3.0000     2.000000   1890.000000   \n",
       "75%    7.345078e+09  6.500000e+05     4.0000     2.500000   2500.000000   \n",
       "max    9.842300e+09  7.060000e+06     9.0000     6.750000  10040.000000   \n",
       "\n",
       "           sqft_lot       floors   waterfront         view    condition  \\\n",
       "count  5.000000e+03  5000.000000  5000.000000  5000.000000  5000.000000   \n",
       "mean   1.615893e+04     1.432600     0.009400     0.243000     3.455000   \n",
       "std    4.600220e+04     0.510793     0.096506     0.774643     0.677692   \n",
       "min    6.090000e+02     1.000000     0.000000     0.000000     1.000000   \n",
       "25%    5.400000e+03     1.000000     0.000000     0.000000     3.000000   \n",
       "50%    7.875000e+03     1.000000     0.000000     0.000000     3.000000   \n",
       "75%    1.123400e+04     2.000000     0.000000     0.000000     4.000000   \n",
       "max    1.651359e+06     3.500000     1.000000     4.000000     5.000000   \n",
       "\n",
       "             grade   sqft_above     yr_built  yr_renovated       zipcode  \\\n",
       "count  5000.000000  5000.000000  5000.000000   5000.000000   5000.000000   \n",
       "mean      7.595200  1753.151000  1966.660800     95.052800  98078.812600   \n",
       "std       1.166537   818.390844    28.286855    425.234932     54.126332   \n",
       "min       3.000000   380.000000  1900.000000      0.000000  98001.000000   \n",
       "25%       7.000000  1190.000000  1949.000000      0.000000  98033.000000   \n",
       "50%       7.000000  1530.000000  1968.000000      0.000000  98070.000000   \n",
       "75%       8.000000  2130.000000  1990.000000      0.000000  98118.000000   \n",
       "max      13.000000  7680.000000  2015.000000   2015.000000  98199.000000   \n",
       "\n",
       "               lat         long  sqft_living15     sqft_lot15  \n",
       "count  5000.000000  5000.000000     5000.00000    5000.000000  \n",
       "mean     47.559312  -122.215864     1976.84520   13451.164600  \n",
       "std       0.139521     0.141807      674.73601   26514.749009  \n",
       "min      47.155900  -122.514000      620.00000     660.000000  \n",
       "25%      47.463675  -122.329000     1490.00000    5391.500000  \n",
       "50%      47.572850  -122.235000     1820.00000    7800.000000  \n",
       "75%      47.679200  -122.129000     2340.00000   10469.250000  \n",
       "max      47.777600  -121.315000     5790.00000  434728.000000  "
      ]
     },
     "execution_count": 4,
     "metadata": {},
     "output_type": "execute_result"
    }
   ],
   "source": [
    "df.describe()"
   ]
  },
  {
   "cell_type": "markdown",
   "metadata": {
    "nbgrader": {
     "grade": false,
     "grade_id": "cell-9b9bd1b387905904",
     "locked": true,
     "schema_version": 1,
     "solution": false
    }
   },
   "source": [
    "We will start with one variable linear regression by extracting the target column and the `sqft_living` variable from the dataset. We use pandas and select both columns as separate variables and transform them into a numpy array."
   ]
  },
  {
   "cell_type": "code",
   "execution_count": 5,
   "metadata": {
    "nbgrader": {
     "grade": true,
     "grade_id": "cell-c7cd243e8b5fe5aa",
     "locked": false,
     "points": 1,
     "schema_version": 1,
     "solution": true
    }
   },
   "outputs": [],
   "source": [
    "X = df['sqft_living'].values\n",
    "y = df['price'].values"
   ]
  },
  {
   "cell_type": "markdown",
   "metadata": {
    "nbgrader": {
     "grade": false,
     "grade_id": "cell-508e7e1a13f9bbe4",
     "locked": true,
     "schema_version": 1,
     "solution": false
    }
   },
   "source": [
    "## Preprocessing\n",
    "\n",
    "As the number of features grows, calculating gradients gets computationally expensive. We can speed this up by normalizing the input data to ensure all values are within the same range. This is especially important for datasets with high standard deviations or differences in the ranges of the attributes. Use min_max normalization for the fearures (`X`) and the true labels (`y`).\n",
    "\n",
    "Implement the cost function `preprocess`."
   ]
  },
  {
   "cell_type": "code",
   "execution_count": 6,
   "metadata": {},
   "outputs": [],
   "source": [
    "def preprocess(X, y):\n",
    "    X_min=np.amin(X,axis=0)\n",
    "    X_max=np.amax(X,axis=0)\n",
    "    y_min=np.amin(y)\n",
    "    y_max=np.amax(y)\n",
    "    X=(X-X_min)/(X_max-X_min)\n",
    "    y=(y-y_min)/(y_max-y_min)\n",
    "    return X, y"
   ]
  },
  {
   "cell_type": "code",
   "execution_count": 7,
   "metadata": {
    "nbgrader": {
     "grade": true,
     "grade_id": "cell-9bb6a28b6b6932fa",
     "locked": false,
     "points": 5,
     "schema_version": 1,
     "solution": true
    }
   },
   "outputs": [],
   "source": [
    "X, y = preprocess(X, y)"
   ]
  },
  {
   "cell_type": "markdown",
   "metadata": {},
   "source": [
    "We will split the data into two datasets: \n",
    "1. The training dataset will contain 80% of the data and will always be used for model training.\n",
    "2. The validation dataset will contain the remaining 20% of the data and will be used for model evaluation. For example, we will pick the best alpha and the best features using the validation dataset, while still training the model using the training dataset."
   ]
  },
  {
   "cell_type": "code",
   "execution_count": 8,
   "metadata": {},
   "outputs": [],
   "source": [
    "# training and validation split\n",
    "np.random.seed(42)\n",
    "indices = np.random.permutation(X.shape[0])\n",
    "idx_train, idx_val = indices[:int(0.8*X.shape[0])], indices[int(0.8*X.shape[0]):]\n",
    "X_train, X_val = X[idx_train], X[idx_val]\n",
    "y_train, y_val = y[idx_train], y[idx_val]"
   ]
  },
  {
   "cell_type": "markdown",
   "metadata": {
    "nbgrader": {
     "grade": false,
     "grade_id": "cell-0c168d036748663e",
     "locked": true,
     "schema_version": 1,
     "solution": false
    }
   },
   "source": [
    "## Data Visualization\n",
    "Another useful tool is data visualization. Since this problem has only two parameters, it is possible to create a two-dimensional scatter plot to visualize the data. Note that many real-world datasets are highly dimensional and cannot be visualized naively. We will be using `matplotlib` for all data visualization purposes since it offers a wide range of visualization tools and is easy to use."
   ]
  },
  {
   "cell_type": "code",
   "execution_count": 9,
   "metadata": {
    "nbgrader": {
     "grade": false,
     "grade_id": "cell-cbad8871e083093f",
     "locked": true,
     "schema_version": 1,
     "solution": false
    }
   },
   "outputs": [
    {
     "data": {
      "image/png": "[encoded data removed]",
      "text/plain": [
       "<Figure size 1400x800 with 1 Axes>"
      ]
     },
     "metadata": {},
     "output_type": "display_data"
    }
   ],
   "source": [
    "plt.plot(X_train, y_train, 'ro', ms=1, mec='k') # the parameters control the size, shape and color of the scatter plot\n",
    "plt.ylabel('Price in USD')\n",
    "plt.xlabel('sq.ft')\n",
    "plt.show()"
   ]
  },
  {
   "cell_type": "markdown",
   "metadata": {
    "nbgrader": {
     "grade": false,
     "grade_id": "cell-c50f0a0e569142ed",
     "locked": true,
     "schema_version": 1,
     "solution": false
    }
   },
   "source": [
    "## Bias Trick\n",
    "\n",
    "Make sure that `X` takes into consideration the bias $\\theta_0$ in the linear model. Hint, recall that the predications of our linear model are of the form:\n",
    "\n",
    "$$\n",
    "\\hat{y} = h_\\theta(x) = \\theta^T x = \\theta_0 + \\theta_1 x_1\n",
    "$$\n",
    "\n",
    "Add columns of ones as the zeroth column of the features (do this for both the training and validation sets)."
   ]
  },
  {
   "cell_type": "code",
   "execution_count": 10,
   "metadata": {
    "nbgrader": {
     "grade": true,
     "grade_id": "cell-44853962dc1651df",
     "locked": false,
     "points": 2,
     "schema_version": 1,
     "solution": true
    }
   },
   "outputs": [],
   "source": [
    "X_train=np.column_stack((np.ones(X_train.shape[0]),X_train))\n",
    "X_val=np.column_stack((np.ones(X_val.shape[0]),X_val))"
   ]
  },
  {
   "cell_type": "markdown",
   "metadata": {
    "nbgrader": {
     "grade": false,
     "grade_id": "cell-c7d7fd68c1b24943",
     "locked": true,
     "schema_version": 1,
     "solution": false
    }
   },
   "source": [
    "## Part 2: Single Variable Linear Regression (40 Points)\n",
    "Simple linear regression is a linear regression model with a single explanatory varaible and a single target value. \n",
    "\n",
    "$$\n",
    "\\hat{y} = h_\\theta(x) = \\theta^T x = \\theta_0 + \\theta_1 x_1\n",
    "$$\n",
    "\n",
    "## Gradient Descent \n",
    "\n",
    "Our task is to find the best possible linear line that explains all the points in our dataset. We start by guessing initial values for the linear regression parameters $\\theta$ and updating the values using gradient descent. \n",
    "\n",
    "The objective of linear regression is to minimize the cost function $J$:\n",
    "\n",
    "$$\n",
    "J(\\theta) = \\frac{1}{2m} \\sum_{i=1}^{n}(h_\\theta(x^{(i)})-y^{(i)})^2\n",
    "$$\n",
    "\n",
    "where the hypothesis (model) $h_\\theta(x)$ is given by a **linear** model:\n",
    "\n",
    "$$\n",
    "h_\\theta(x) = \\theta^T x = \\theta_0 + \\theta_1 x_1\n",
    "$$\n",
    "\n",
    "$\\theta_j$ are parameters of your model. and by changing those values accordingly you will be able to lower the cost function $J(\\theta)$. One way to accopmlish this is to use gradient descent:\n",
    "\n",
    "$$\n",
    "\\theta_j = \\theta_j - \\alpha \\frac{1}{m} \\sum_{i=1}^m (h_\\theta(x^{(i)})-y^{(i)})x_j^{(i)}\n",
    "$$\n",
    "\n",
    "In linear regresion, we know that with each step of gradient descent, the parameters $\\theta_j$ get closer to the optimal values that will achieve the lowest cost $J(\\theta)$."
   ]
  },
  {
   "cell_type": "markdown",
   "metadata": {
    "nbgrader": {
     "grade": false,
     "grade_id": "cell-0f83af93c0436542",
     "locked": true,
     "schema_version": 1,
     "solution": false
    }
   },
   "source": [
    "Implement the cost function `compute_cost`. (10 points)"
   ]
  },
  {
   "cell_type": "code",
   "execution_count": 11,
   "metadata": {},
   "outputs": [],
   "source": [
    "def compute_cost(X, y, theta):\n",
    "    J = 0\n",
    "    m=X.shape[0]\n",
    "    constant=1/(2*m)\n",
    "    hypothesis=theta@X.T\n",
    "    J=constant*np.sum((hypothesis-y)**2)\n",
    "    return J"
   ]
  },
  {
   "cell_type": "code",
   "execution_count": 12,
   "metadata": {
    "nbgrader": {
     "grade": false,
     "grade_id": "cell-4c1cfec24e144479",
     "locked": true,
     "schema_version": 1,
     "solution": false
    }
   },
   "outputs": [
    {
     "data": {
      "text/plain": [
       "0.26954672961840126"
      ]
     },
     "execution_count": 12,
     "metadata": {},
     "output_type": "execute_result"
    }
   ],
   "source": [
    "theta = np.array([-1, 2])\n",
    "J = compute_cost(X_train, y_train, theta)\n",
    "J"
   ]
  },
  {
   "cell_type": "markdown",
   "metadata": {
    "nbgrader": {
     "grade": false,
     "grade_id": "cell-afdc527b73d275bb",
     "locked": true,
     "schema_version": 1,
     "solution": false
    }
   },
   "source": [
    "Implement the gradient descent function `gradient_descent`. (10 points)"
   ]
  },
  {
   "cell_type": "code",
   "execution_count": 13,
   "metadata": {},
   "outputs": [],
   "source": [
    "def gradient_descent(X, y, theta, alpha, num_iters):\n",
    "    J_history = [] # Use a python list to save cost in every iteration\n",
    "    theta = theta.copy() # avoid changing the original thetas\n",
    "    for i in range(num_iters):\n",
    "        m=X.shape[0]\n",
    "        hypothesis=theta@X.T\n",
    "        theta=theta-(alpha*(1/m))*((hypothesis-y).T@X)\n",
    "        J_history.append(compute_cost(X, y, theta))\n",
    "    return theta, J_history"
   ]
  },
  {
   "cell_type": "code",
   "execution_count": 14,
   "metadata": {
    "nbgrader": {
     "grade": false,
     "grade_id": "cell-59b95cbea13e7fc1",
     "locked": true,
     "schema_version": 1,
     "solution": false
    }
   },
   "outputs": [],
   "source": [
    "np.random.seed(42)\n",
    "theta = np.random.random(size=2)\n",
    "iterations = 40000\n",
    "alpha = 0.1\n",
    "theta, J_history = gradient_descent(X_train ,y_train, theta, alpha, iterations)"
   ]
  },
  {
   "cell_type": "code",
   "execution_count": 15,
   "metadata": {},
   "outputs": [
    {
     "data": {
      "text/plain": [
       "(array([-0.00444154,  0.40875196]), 0.0008040562476843768)"
      ]
     },
     "execution_count": 15,
     "metadata": {},
     "output_type": "execute_result"
    }
   ],
   "source": [
    "theta, J_history[-1]"
   ]
  },
  {
   "cell_type": "markdown",
   "metadata": {
    "nbgrader": {
     "grade": false,
     "grade_id": "cell-86125cd57f0fdb89",
     "locked": true,
     "schema_version": 1,
     "solution": false
    }
   },
   "source": [
    "You can evaluate the learning process by monitoring the loss as training progress. In the following graph, we visualize the loss as a function of the iterations. This is possible since we are saving the loss value at every iteration in the `J_history` array. This visualization might help you find problems with your code. Notice that since the network converges quickly, we are using logarithmic scale for the number of iterations. "
   ]
  },
  {
   "cell_type": "code",
   "execution_count": 16,
   "metadata": {
    "nbgrader": {
     "grade": false,
     "grade_id": "cell-a565f1f721f6377f",
     "locked": true,
     "schema_version": 1,
     "solution": false
    }
   },
   "outputs": [
    {
     "data": {
      "image/png": "[encoded data removed]",
      "text/plain": [
       "<Figure size 1400x800 with 1 Axes>"
      ]
     },
     "metadata": {},
     "output_type": "display_data"
    }
   ],
   "source": [
    "plt.plot(np.arange(iterations), J_history)\n",
    "plt.xscale('log')\n",
    "plt.xlabel('Iterations')\n",
    "plt.ylabel('Loss')\n",
    "plt.title('Loss as a function of iterations')\n",
    "plt.show()"
   ]
  },
  {
   "cell_type": "markdown",
   "metadata": {
    "nbgrader": {
     "grade": false,
     "grade_id": "cell-3bdd058ecc5db0eb",
     "locked": true,
     "schema_version": 1,
     "solution": false
    }
   },
   "source": [
    "Implement the pseudo-inverse function `pinv`. **Do not use `np.linalg.pinv`**, instead use only direct matrix multiplication as you saw in class (you can calculate the inverse of a matrix using `np.linalg.inv`). (10 points)"
   ]
  },
  {
   "cell_type": "code",
   "execution_count": 17,
   "metadata": {},
   "outputs": [],
   "source": [
    "def pinv(X, y):\n",
    "    pinv_theta=np.linalg.inv(X.T@X)@X.T@y\n",
    "    return pinv_theta"
   ]
  },
  {
   "cell_type": "code",
   "execution_count": 18,
   "metadata": {
    "nbgrader": {
     "grade": false,
     "grade_id": "cell-ee89ac06af3087ae",
     "locked": true,
     "schema_version": 1,
     "solution": false
    }
   },
   "outputs": [
    {
     "data": {
      "text/plain": [
       "(array([-0.00444154,  0.40875196]), 0.0008040562476843768)"
      ]
     },
     "execution_count": 18,
     "metadata": {},
     "output_type": "execute_result"
    }
   ],
   "source": [
    "theta_pinv = pinv(X_train ,y_train)\n",
    "J_pinv = compute_cost(X_train, y_train, theta_pinv)\n",
    "\n",
    "theta_pinv,J_pinv"
   ]
  },
  {
   "cell_type": "markdown",
   "metadata": {},
   "source": [
    "We can add the loss value for the theta calculated using the psuedo-inverse to our graph. This is another sanity check as the loss of our model should converge to the psuedo-inverse loss."
   ]
  },
  {
   "cell_type": "code",
   "execution_count": 19,
   "metadata": {
    "nbgrader": {
     "grade": false,
     "grade_id": "cell-639b53fc41479335",
     "locked": true,
     "schema_version": 1,
     "solution": false
    }
   },
   "outputs": [
    {
     "data": {
      "image/png": "[encoded data removed]",
      "text/plain": [
       "<Figure size 1400x800 with 1 Axes>"
      ]
     },
     "metadata": {},
     "output_type": "display_data"
    }
   ],
   "source": [
    "plt.plot(np.arange(iterations), J_history)\n",
    "plt.xscale('log')\n",
    "plt.xlabel('Iterations')\n",
    "plt.ylabel('Loss')\n",
    "plt.title('Loss as a function of iterations')\n",
    "plt.hlines(y = J_pinv, xmin = 0, xmax = len(J_history), color='r',\n",
    "           linewidth = 1, linestyle = 'dashed')\n",
    "plt.show()"
   ]
  },
  {
   "cell_type": "markdown",
   "metadata": {
    "nbgrader": {
     "grade": false,
     "grade_id": "cell-5043aa5363cbe5c9",
     "locked": true,
     "schema_version": 1,
     "solution": false
    }
   },
   "source": [
    "We can use a better approach for the implementation of `gradient_descent`. Instead of performing 40,000 iterations, we wish to stop when the improvement of the loss value is smaller than `1e-8` from one iteration to the next. Implement the function `efficient_gradient_descent`. (5 points)"
   ]
  },
  {
   "cell_type": "code",
   "execution_count": 20,
   "metadata": {},
   "outputs": [],
   "source": [
    "def efficient_gradient_descent(X, y, theta, alpha, num_iters):\n",
    "    J_history = [] # Use a python list to save cost in every iteration\n",
    "    theta = theta.copy() # avoid changing the original thetas\n",
    "    m=X.shape[0]\n",
    "    for i in range(num_iters):\n",
    "        hypothesis=theta@X.T\n",
    "        theta=theta-(alpha/m)*((hypothesis-y).T@X)\n",
    "        J_history.append(compute_cost(X, y, theta))\n",
    "        if (i>=1) and ((J_history[i-1]-J_history[i])<(1e-8)):\n",
    "                break\n",
    "    return theta, J_history"
   ]
  },
  {
   "cell_type": "code",
   "execution_count": 21,
   "metadata": {},
   "outputs": [
    {
     "data": {
      "text/plain": [
       "(array([-0.01055681,  0.44336663]), 0.0008096059345101558)"
      ]
     },
     "execution_count": 21,
     "metadata": {},
     "output_type": "execute_result"
    }
   ],
   "source": [
    "np.random.seed(42)\n",
    "theta = np.random.random(size=2)\n",
    "iterations = 40000\n",
    "alpha = 0.1\n",
    "theta, J_history = efficient_gradient_descent(X_train ,y_train, theta, alpha, iterations)\n",
    "theta , J_history[-1]"
   ]
  },
  {
   "cell_type": "markdown",
   "metadata": {
    "nbgrader": {
     "grade": false,
     "grade_id": "cell-6e2524d07523d950",
     "locked": true,
     "schema_version": 1,
     "solution": false
    }
   },
   "source": [
    "The learning rate is another factor that determines the performance of our model in terms of speed and accuracy. Complete the function `find_best_alpha`. Make sure you use the training dataset to learn the parameters (thetas) and use those parameters with the validation dataset to compute the cost."
   ]
  },
  {
   "cell_type": "code",
   "execution_count": 22,
   "metadata": {},
   "outputs": [],
   "source": [
    "def find_best_alpha(X_train, y_train, X_val, y_val, iterations):\n",
    "    alphas = [0.00001, 0.00003, 0.0001, 0.0003, 0.001, 0.003, 0.01, 0.03, 0.1, 0.3, 1, 2, 3]\n",
    "    alpha_dict = {}\n",
    "    np.random.seed(42)\n",
    "    randomtheta = np.random.random(size=(X_train.shape[1]))\n",
    "    for alp in alphas:\n",
    "        newtheta, J_history = efficient_gradient_descent(X_train ,y_train, randomtheta, alp, iterations)\n",
    "        alpha_dict[alp]=compute_cost(X_val, y_val, newtheta)\n",
    "    return alpha_dict"
   ]
  },
  {
   "cell_type": "code",
   "execution_count": 23,
   "metadata": {
    "nbgrader": {
     "grade": false,
     "grade_id": "cell-a8b088fe7a10910a",
     "locked": true,
     "schema_version": 1,
     "solution": false
    }
   },
   "outputs": [
    {
     "data": {
      "text/plain": [
       "{1e-05: 0.050512933047963456,\n",
       " 3e-05: 0.01094368061423209,\n",
       " 0.0001: 0.001658952100472043,\n",
       " 0.0003: 0.0016215419475731805,\n",
       " 0.001: 0.0012791198574803146,\n",
       " 0.003: 0.0009104813257762985,\n",
       " 0.01: 0.0007759711616428558,\n",
       " 0.03: 0.0007346782708564243,\n",
       " 0.1: 0.0007184770357946686,\n",
       " 0.3: 0.0007129541042755525,\n",
       " 1: 0.0007104437149608674,\n",
       " 2: 0.1438389765310871,\n",
       " 3: 2.155775216521344}"
      ]
     },
     "execution_count": 23,
     "metadata": {},
     "output_type": "execute_result"
    }
   ],
   "source": [
    "alpha_dict = find_best_alpha(X_train, y_train, X_val, y_val, 40000)\n",
    "alpha_dict"
   ]
  },
  {
   "cell_type": "markdown",
   "metadata": {
    "nbgrader": {
     "grade": false,
     "grade_id": "cell-5bd93130c022d3e1",
     "locked": true,
     "schema_version": 1,
     "solution": false
    }
   },
   "source": [
    "Obtain the best learning rate from the dictionary `alpha_dict`. This can be done in a single line using built-in functions."
   ]
  },
  {
   "cell_type": "code",
   "execution_count": 24,
   "metadata": {
    "nbgrader": {
     "grade": false,
     "grade_id": "cell-4f81cf375ac46b73",
     "locked": false,
     "schema_version": 1,
     "solution": true
    }
   },
   "outputs": [
    {
     "name": "stdout",
     "output_type": "stream",
     "text": [
      "1\n"
     ]
    }
   ],
   "source": [
    "best_alpha = min(alpha_dict, key=alpha_dict.get)\n",
    "print(best_alpha)"
   ]
  },
  {
   "cell_type": "markdown",
   "metadata": {
    "nbgrader": {
     "grade": false,
     "grade_id": "cell-d16367ecb7183996",
     "locked": true,
     "schema_version": 1,
     "solution": false
    }
   },
   "source": [
    "Pick the best three alpha values you just calculated and provide **one** graph with three lines indicating the training loss as a function of iterations (Use 10,000 iterations). Note you are required to provide general code for this purpose (no hard-coding). Make sure the visualization is clear and informative. (5 points)"
   ]
  },
  {
   "cell_type": "code",
   "execution_count": 25,
   "metadata": {
    "nbgrader": {
     "grade": true,
     "grade_id": "cell-448638e817503ca3",
     "locked": false,
     "points": 0,
     "schema_version": 1,
     "solution": true
    }
   },
   "outputs": [
    {
     "data": {
      "image/png": "[encoded data removed]",
      "text/plain": [
       "<Figure size 1400x800 with 1 Axes>"
      ]
     },
     "metadata": {},
     "output_type": "display_data"
    }
   ],
   "source": [
    "iterations=10000\n",
    "np.random.seed(42)\n",
    "theta = np.random.random(size=2)\n",
    "threebest = list((dict(sorted(alpha_dict.items(), key=lambda item: item[1])[:3])).keys())\n",
    "for alp in threebest:\n",
    "    th, J_history = gradient_descent(X_train ,y_train, theta, alp, iterations)\n",
    "    plt.plot(np.arange(iterations), J_history)\n",
    "    \n",
    "plt.xscale('log')\n",
    "plt.yscale('log')\n",
    "plt.xlabel('Iterations')\n",
    "plt.ylabel('Loss')\n",
    "plt.title('Loss as a function the 3 best alphas')\n",
    "plt.legend([threebest[0],threebest[1],threebest[2]],title = \"Alphas:\");\n",
    "plt.show()"
   ]
  },
  {
   "cell_type": "markdown",
   "metadata": {
    "nbgrader": {
     "grade": false,
     "grade_id": "cell-b73893d236bff1d5",
     "locked": true,
     "schema_version": 1,
     "solution": false
    }
   },
   "source": [
    "This is yet another sanity check. This function plots the regression lines of your model and the model based on the pseudoinverse calculation. Both models should exhibit the same trend through the data. "
   ]
  },
  {
   "cell_type": "code",
   "execution_count": 26,
   "metadata": {},
   "outputs": [],
   "source": [
    "theta, J_history = gradient_descent(X_train ,y_train, theta, best_alpha, 40000)\n",
    "##to make sure we save the best theta as name:theta"
   ]
  },
  {
   "cell_type": "code",
   "execution_count": 27,
   "metadata": {
    "nbgrader": {
     "grade": false,
     "grade_id": "cell-c7ee7d8763464371",
     "locked": true,
     "schema_version": 1,
     "solution": false
    }
   },
   "outputs": [
    {
     "data": {
      "image/png": "[encoded data removed]",
      "text/plain": [
       "<Figure size 700x700 with 1 Axes>"
      ]
     },
     "metadata": {},
     "output_type": "display_data"
    }
   ],
   "source": [
    "plt.figure(figsize=(7, 7))\n",
    "plt.plot(X_train[:,1], y_train, 'ro', ms=1, mec='k')\n",
    "plt.ylabel('Price in USD')\n",
    "plt.xlabel('sq.ft')\n",
    "plt.plot(X_train[:, 1], np.dot(X_train, theta), 'o')\n",
    "plt.plot(X_train[:, 1], np.dot(X_train, theta_pinv), '-')\n",
    "\n",
    "plt.legend(['Training data', 'Linear regression', 'Best theta']);"
   ]
  },
  {
   "cell_type": "markdown",
   "metadata": {
    "nbgrader": {
     "grade": false,
     "grade_id": "cell-e77c602466fab37d",
     "locked": true,
     "schema_version": 1,
     "solution": false
    }
   },
   "source": [
    "## Part 2: Multivariate Linear Regression (30 points)\n",
    "\n",
    "In most cases, you will deal with databases that have more than one feature. It can be as little as two features and up to thousands of features. In those cases, we use a multiple linear regression model. The regression equation is almost the same as the simple linear regression equation:\n",
    "\n",
    "$$\n",
    "\\hat{y} = h_\\theta(\\vec{x}) = \\theta^T \\vec{x} = \\theta_0 + \\theta_1 x_1 + ... + \\theta_n x_n\n",
    "$$\n",
    "\n",
    "\n",
    "If you wrote vectorized code, this part should be straightforward. If your code is not vectorized, you should go back and edit your functions such that they support both multivariate and single variable regression. **Your code should not check the dimensionality of the input before running**."
   ]
  },
  {
   "cell_type": "code",
   "execution_count": 28,
   "metadata": {
    "nbgrader": {
     "grade": false,
     "grade_id": "cell-15626dda8db26550",
     "locked": true,
     "schema_version": 1,
     "solution": false
    }
   },
   "outputs": [
    {
     "data": {
      "text/html": [
       "<div>\n",
       "<style scoped>\n",
       "    .dataframe tbody tr th:only-of-type {\n",
       "        vertical-align: middle;\n",
       "    }\n",
       "\n",
       "    .dataframe tbody tr th {\n",
       "        vertical-align: top;\n",
       "    }\n",
       "\n",
       "    .dataframe thead th {\n",
       "        text-align: right;\n",
       "    }\n",
       "</style>\n",
       "<table border=\"1\" class=\"dataframe\">\n",
       "  <thead>\n",
       "    <tr style=\"text-align: right;\">\n",
       "      <th></th>\n",
       "      <th>id</th>\n",
       "      <th>date</th>\n",
       "      <th>price</th>\n",
       "      <th>bedrooms</th>\n",
       "      <th>bathrooms</th>\n",
       "      <th>sqft_living</th>\n",
       "      <th>sqft_lot</th>\n",
       "      <th>floors</th>\n",
       "      <th>waterfront</th>\n",
       "      <th>view</th>\n",
       "      <th>condition</th>\n",
       "      <th>grade</th>\n",
       "      <th>sqft_above</th>\n",
       "      <th>yr_built</th>\n",
       "      <th>yr_renovated</th>\n",
       "      <th>zipcode</th>\n",
       "      <th>lat</th>\n",
       "      <th>long</th>\n",
       "      <th>sqft_living15</th>\n",
       "      <th>sqft_lot15</th>\n",
       "    </tr>\n",
       "  </thead>\n",
       "  <tbody>\n",
       "    <tr>\n",
       "      <th>0</th>\n",
       "      <td>7129300520</td>\n",
       "      <td>20141013T000000</td>\n",
       "      <td>221900.0</td>\n",
       "      <td>3</td>\n",
       "      <td>1.00</td>\n",
       "      <td>1180</td>\n",
       "      <td>5650</td>\n",
       "      <td>1.0</td>\n",
       "      <td>0</td>\n",
       "      <td>0</td>\n",
       "      <td>3</td>\n",
       "      <td>7</td>\n",
       "      <td>1180</td>\n",
       "      <td>1955</td>\n",
       "      <td>0</td>\n",
       "      <td>98178</td>\n",
       "      <td>47.5112</td>\n",
       "      <td>-122.257</td>\n",
       "      <td>1340</td>\n",
       "      <td>5650</td>\n",
       "    </tr>\n",
       "    <tr>\n",
       "      <th>1</th>\n",
       "      <td>6414100192</td>\n",
       "      <td>20141209T000000</td>\n",
       "      <td>538000.0</td>\n",
       "      <td>3</td>\n",
       "      <td>2.25</td>\n",
       "      <td>2570</td>\n",
       "      <td>7242</td>\n",
       "      <td>2.0</td>\n",
       "      <td>0</td>\n",
       "      <td>0</td>\n",
       "      <td>3</td>\n",
       "      <td>7</td>\n",
       "      <td>2170</td>\n",
       "      <td>1951</td>\n",
       "      <td>1991</td>\n",
       "      <td>98125</td>\n",
       "      <td>47.7210</td>\n",
       "      <td>-122.319</td>\n",
       "      <td>1690</td>\n",
       "      <td>7639</td>\n",
       "    </tr>\n",
       "    <tr>\n",
       "      <th>2</th>\n",
       "      <td>5631500400</td>\n",
       "      <td>20150225T000000</td>\n",
       "      <td>180000.0</td>\n",
       "      <td>2</td>\n",
       "      <td>1.00</td>\n",
       "      <td>770</td>\n",
       "      <td>10000</td>\n",
       "      <td>1.0</td>\n",
       "      <td>0</td>\n",
       "      <td>0</td>\n",
       "      <td>3</td>\n",
       "      <td>6</td>\n",
       "      <td>770</td>\n",
       "      <td>1933</td>\n",
       "      <td>0</td>\n",
       "      <td>98028</td>\n",
       "      <td>47.7379</td>\n",
       "      <td>-122.233</td>\n",
       "      <td>2720</td>\n",
       "      <td>8062</td>\n",
       "    </tr>\n",
       "    <tr>\n",
       "      <th>3</th>\n",
       "      <td>2487200875</td>\n",
       "      <td>20141209T000000</td>\n",
       "      <td>604000.0</td>\n",
       "      <td>4</td>\n",
       "      <td>3.00</td>\n",
       "      <td>1960</td>\n",
       "      <td>5000</td>\n",
       "      <td>1.0</td>\n",
       "      <td>0</td>\n",
       "      <td>0</td>\n",
       "      <td>5</td>\n",
       "      <td>7</td>\n",
       "      <td>1050</td>\n",
       "      <td>1965</td>\n",
       "      <td>0</td>\n",
       "      <td>98136</td>\n",
       "      <td>47.5208</td>\n",
       "      <td>-122.393</td>\n",
       "      <td>1360</td>\n",
       "      <td>5000</td>\n",
       "    </tr>\n",
       "    <tr>\n",
       "      <th>4</th>\n",
       "      <td>1954400510</td>\n",
       "      <td>20150218T000000</td>\n",
       "      <td>510000.0</td>\n",
       "      <td>3</td>\n",
       "      <td>2.00</td>\n",
       "      <td>1680</td>\n",
       "      <td>8080</td>\n",
       "      <td>1.0</td>\n",
       "      <td>0</td>\n",
       "      <td>0</td>\n",
       "      <td>3</td>\n",
       "      <td>8</td>\n",
       "      <td>1680</td>\n",
       "      <td>1987</td>\n",
       "      <td>0</td>\n",
       "      <td>98074</td>\n",
       "      <td>47.6168</td>\n",
       "      <td>-122.045</td>\n",
       "      <td>1800</td>\n",
       "      <td>7503</td>\n",
       "    </tr>\n",
       "  </tbody>\n",
       "</table>\n",
       "</div>"
      ],
      "text/plain": [
       "           id             date     price  bedrooms  bathrooms  sqft_living  \\\n",
       "0  7129300520  20141013T000000  221900.0         3       1.00         1180   \n",
       "1  6414100192  20141209T000000  538000.0         3       2.25         2570   \n",
       "2  5631500400  20150225T000000  180000.0         2       1.00          770   \n",
       "3  2487200875  20141209T000000  604000.0         4       3.00         1960   \n",
       "4  1954400510  20150218T000000  510000.0         3       2.00         1680   \n",
       "\n",
       "   sqft_lot  floors  waterfront  view  condition  grade  sqft_above  yr_built  \\\n",
       "0      5650     1.0           0     0          3      7        1180      1955   \n",
       "1      7242     2.0           0     0          3      7        2170      1951   \n",
       "2     10000     1.0           0     0          3      6         770      1933   \n",
       "3      5000     1.0           0     0          5      7        1050      1965   \n",
       "4      8080     1.0           0     0          3      8        1680      1987   \n",
       "\n",
       "   yr_renovated  zipcode      lat     long  sqft_living15  sqft_lot15  \n",
       "0             0    98178  47.5112 -122.257           1340        5650  \n",
       "1          1991    98125  47.7210 -122.319           1690        7639  \n",
       "2             0    98028  47.7379 -122.233           2720        8062  \n",
       "3             0    98136  47.5208 -122.393           1360        5000  \n",
       "4             0    98074  47.6168 -122.045           1800        7503  "
      ]
     },
     "execution_count": 28,
     "metadata": {},
     "output_type": "execute_result"
    }
   ],
   "source": [
    "# Read comma separated data\n",
    "df = pd.read_csv('data.csv')\n",
    "df.head()"
   ]
  },
  {
   "cell_type": "markdown",
   "metadata": {
    "nbgrader": {
     "grade": false,
     "grade_id": "cell-2dc0f4dc3491520c",
     "locked": true,
     "schema_version": 1,
     "solution": false
    }
   },
   "source": [
    "## Preprocessing\n",
    "\n",
    "Like in the single variable case, we need to create a numpy array from the dataframe. Before doing so, we should notice that some of the features are clearly irrelevant."
   ]
  },
  {
   "cell_type": "code",
   "execution_count": 48,
   "metadata": {
    "nbgrader": {
     "grade": true,
     "grade_id": "cell-a87b4027bd3bda4b",
     "locked": false,
     "points": 0,
     "schema_version": 1,
     "solution": true
    }
   },
   "outputs": [],
   "source": [
    "X = df.drop(columns=['price', 'id', 'date']).values\n",
    "y = df['price'].values"
   ]
  },
  {
   "cell_type": "markdown",
   "metadata": {
    "nbgrader": {
     "grade": false,
     "grade_id": "cell-1aa12f54513b1efa",
     "locked": true,
     "schema_version": 1,
     "solution": false
    }
   },
   "source": [
    "Use the **same** `preprocess` function you implemented previously. Notice that proper vectorized implementation should work regardless of the dimensionality of the input. You might want to check that your code in the previous parts still works."
   ]
  },
  {
   "cell_type": "code",
   "execution_count": 49,
   "metadata": {
    "nbgrader": {
     "grade": false,
     "grade_id": "cell-f40a9df530db9399",
     "locked": true,
     "schema_version": 1,
     "solution": false
    }
   },
   "outputs": [],
   "source": [
    "# preprocessing\n",
    "X, y = preprocess(X, y)"
   ]
  },
  {
   "cell_type": "code",
   "execution_count": 50,
   "metadata": {},
   "outputs": [],
   "source": [
    "# training and validation split\n",
    "np.random.seed(42)\n",
    "indices = np.random.permutation(X.shape[0])\n",
    "idx_train, idx_val = indices[:int(0.8*X.shape[0])], indices[int(0.8*X.shape[0]):]\n",
    "X_train, X_val = X[idx_train,:], X[idx_val,:]\n",
    "y_train, y_val = y[idx_train], y[idx_val]"
   ]
  },
  {
   "cell_type": "markdown",
   "metadata": {},
   "source": [
    "Using 3D visualization, we can still observe trends in the data. Visualizing additional dimensions requires advanced techniques we will learn later in the course."
   ]
  },
  {
   "cell_type": "code",
   "execution_count": 51,
   "metadata": {
    "nbgrader": {
     "grade": false,
     "grade_id": "cell-0c68216a26a9b5af",
     "locked": true,
     "schema_version": 1,
     "solution": false
    }
   },
   "outputs": [
    {
     "name": "stderr",
     "output_type": "stream",
     "text": [
      "/var/folders/4y/v75tr6k937d026x6qvpx5x3m0000gn/T/ipykernel_1052/187571787.py:4: MatplotlibDeprecationWarning: Axes3D(fig) adding itself to the figure is deprecated since 3.4. Pass the keyword argument auto_add_to_figure=False and use fig.add_axes(ax) to suppress this warning. The default value of auto_add_to_figure will change to False in mpl3.5 and True values will no longer work in 3.6.  This is consistent with other Axes classes.\n",
      "  ax = p3.Axes3D(fig)\n"
     ]
    },
    {
     "data": {
      "image/png": "[encoded data removed]",
      "text/plain": [
       "<Figure size 500x500 with 1 Axes>"
      ]
     },
     "metadata": {},
     "output_type": "display_data"
    }
   ],
   "source": [
    "%matplotlib inline\n",
    "import mpl_toolkits.mplot3d.axes3d as p3\n",
    "fig = plt.figure(figsize=(5,5))\n",
    "ax = p3.Axes3D(fig)\n",
    "xx = X_train[:, 1][:1000]\n",
    "yy = X_train[:, 2][:1000]\n",
    "zz = y_train[:1000]\n",
    "ax.scatter(xx, yy, zz, marker='o')\n",
    "ax.set_xlabel('bathrooms')\n",
    "ax.set_ylabel('sqft_living')\n",
    "ax.set_zlabel('price')\n",
    "plt.show()"
   ]
  },
  {
   "cell_type": "markdown",
   "metadata": {
    "nbgrader": {
     "grade": false,
     "grade_id": "cell-70fcd47d69caea00",
     "locked": true,
     "schema_version": 1,
     "solution": false
    }
   },
   "source": [
    "Use the bias trick again (add a column of ones as the zeroth column in the both the training and validation datasets)."
   ]
  },
  {
   "cell_type": "code",
   "execution_count": 52,
   "metadata": {
    "nbgrader": {
     "grade": true,
     "grade_id": "cell-2985911f4b7af3e1",
     "locked": false,
     "points": 0,
     "schema_version": 1,
     "solution": true
    }
   },
   "outputs": [],
   "source": [
    "X_train=np.column_stack((np.ones(X_train.shape[0]),X_train))\n",
    "X_val=np.column_stack((np.ones(X_val.shape[0]),X_val))"
   ]
  },
  {
   "cell_type": "markdown",
   "metadata": {
    "nbgrader": {
     "grade": false,
     "grade_id": "cell-2b89288ff61c80ac",
     "locked": true,
     "schema_version": 1,
     "solution": false
    }
   },
   "source": [
    "Make sure the functions `compute_cost` (10 points), `gradient_descent` (15 points), and `pinv` (5 points) work on the multi-dimensional dataset. If you make any changes, make sure your code still works on the single variable regression model. "
   ]
  },
  {
   "cell_type": "code",
   "execution_count": 57,
   "metadata": {
    "nbgrader": {
     "grade": false,
     "grade_id": "cell-81ab741781b2f6ec",
     "locked": true,
     "schema_version": 1,
     "solution": false
    }
   },
   "outputs": [],
   "source": [
    "shape = X_train.shape[1]\n",
    "theta = np.ones(shape)\n",
    "J = compute_cost(X_train, y_train, theta)"
   ]
  },
  {
   "cell_type": "code",
   "execution_count": 58,
   "metadata": {},
   "outputs": [
    {
     "data": {
      "text/plain": [
       "(18,\n",
       " array([1., 1., 1., 1., 1., 1., 1., 1., 1., 1., 1., 1., 1., 1., 1., 1., 1.,\n",
       "        1.]),\n",
       " 15.683563252285328)"
      ]
     },
     "execution_count": 58,
     "metadata": {},
     "output_type": "execute_result"
    }
   ],
   "source": [
    "shape,theta,J"
   ]
  },
  {
   "cell_type": "code",
   "execution_count": 59,
   "metadata": {
    "nbgrader": {
     "grade": false,
     "grade_id": "cell-6f25fb05bd6c648a",
     "locked": true,
     "schema_version": 1,
     "solution": false
    }
   },
   "outputs": [],
   "source": [
    "np.random.seed(42)\n",
    "shape = X_train.shape[1]\n",
    "alpha_dict = find_best_alpha(X_train, y_train, X_val, y_val, 40000)\n",
    "best_alpha = min(alpha_dict, key=alpha_dict.get)\n",
    "theta = np.random.random(shape)\n",
    "iterations = 100000\n",
    "theta, J_history = gradient_descent(X_train ,y_train, theta, best_alpha, iterations)"
   ]
  },
  {
   "cell_type": "code",
   "execution_count": 60,
   "metadata": {},
   "outputs": [
    {
     "data": {
      "text/plain": [
       "(array([-0.03411456, -0.05818822,  0.02250116,  0.24344363,  0.00145223,\n",
       "         0.00032801,  0.11419207,  0.02751499,  0.01169455,  0.1308194 ,\n",
       "         0.03199111, -0.0477569 ,  0.00438559, -0.01687659,  0.05118819,\n",
       "        -0.03060795,  0.02500284, -0.02715972]),\n",
       " [0.08157765106200295,\n",
       "  0.06022469077286593,\n",
       "  0.05772465657928345,\n",
       "  0.05552070236043983,\n",
       "  0.05342550168624076,\n",
       "  0.05143125456676091,\n",
       "  0.04953228692450258,\n",
       "  0.04772329550077071,\n",
       "  0.045999307269302354,\n",
       "  0.04435565720472426,\n",
       "  0.04278796774996992,\n",
       "  0.04129212971218253,\n",
       "  0.03986428448417077,\n",
       "  0.0385008074973212,\n",
       "  0.03719829281864007,\n",
       "  0.0359535388108642,\n",
       "  0.03476353478039449,\n",
       "  0.033625448543200265,\n",
       "  0.03253661484384799,\n",
       "  0.03149452456745226,\n",
       "  0.030496814688656376,\n",
       "  0.029541258905748616,\n",
       "  0.02862575891173087,\n",
       "  0.027748336257599447,\n",
       "  0.026907124766293148,\n",
       "  0.026100363458728765,\n",
       "  0.02532638995609581,\n",
       "  0.024583634325136015,\n",
       "  0.023870613335502895,\n",
       "  0.02318592510049646,\n",
       "  0.022528244074509242,\n",
       "  0.02189631638241475,\n",
       "  0.021288955457888024,\n",
       "  0.020705037969280093,\n",
       "  0.020143500013183737,\n",
       "  0.01960333355723394,\n",
       "  0.019083583114992482,\n",
       "  0.01858334263697797,\n",
       "  0.018101752603027845,\n",
       "  0.01763799730222361,\n",
       "  0.017191302287580517,\n",
       "  0.01676093199360331,\n",
       "  0.01634618750564601,\n",
       "  0.015946404470789988,\n",
       "  0.015560951140675811,\n",
       "  0.01518922653739365,\n",
       "  0.014830658734159114,\n",
       "  0.01448470324307884,\n",
       "  0.014150841502846546,\n",
       "  0.013828579459708553,\n",
       "  0.013517446235500654,\n",
       "  0.013216992876988144,\n",
       "  0.012926791181140302,\n",
       "  0.01264643259134175,\n",
       "  0.012375527159887954,\n",
       "  0.012113702572432598,\n",
       "  0.01186060323035235,\n",
       "  0.011615889387271244,\n",
       "  0.011379236336244212,\n",
       "  0.01115033364433835,\n",
       "  0.010928884431572751,\n",
       "  0.01071460469138449,\n",
       "  0.010507222649980321,\n",
       "  0.010306478162112416,\n",
       "  0.010112122140982607,\n",
       "  0.009923916020134026,\n",
       "  0.009741631245332893,\n",
       "  0.009565048794576795,\n",
       "  0.009393958724490229,\n",
       "  0.009228159741483975,\n",
       "  0.009067458796162461,\n",
       "  0.008911670699563631,\n",
       "  0.008760617759909084,\n",
       "  0.008614129438629105,\n",
       "  0.008472042024508122,\n",
       "  0.008334198324871419,\n",
       "  0.00820044737280407,\n",
       "  0.00807064414945838,\n",
       "  0.007944649320567057,\n",
       "  0.007822328986335978,\n",
       "  0.007703554443943282,\n",
       "  0.007588201961920854,\n",
       "  0.00747615256574011,\n",
       "  0.007367291833966869,\n",
       "  0.007261509704390036,\n",
       "  0.007158700289566058,\n",
       "  0.0070587617012558826,\n",
       "  0.006961595883263603,\n",
       "  0.006867108452216215,\n",
       "  0.006775208545852196,\n",
       "  0.0066858086784130156,\n",
       "  0.006598824602756303,\n",
       "  0.006514175178832477,\n",
       "  0.0064317822481880955,\n",
       "  0.006351570514179363,\n",
       "  0.006273467427597977,\n",
       "  0.006197403077429119,\n",
       "  0.006123310086477826,\n",
       "  0.006051123511615344,\n",
       "  0.005980780748411531,\n",
       "  0.005912221439932781,\n",
       "  0.005845387389497612,\n",
       "  0.0057802224771939005,\n",
       "  0.005716672579972759,\n",
       "  0.005654685495144532,\n",
       "  0.005594210867112033,\n",
       "  0.005535200117185347,\n",
       "  0.0054776063763310534,\n",
       "  0.005421384420716759,\n",
       "  0.005366490609919433,\n",
       "  0.0053128828276730435,\n",
       "  0.005260520425037722,\n",
       "  0.005209364165878931,\n",
       "  0.005159376174550931,\n",
       "  0.005110519885684482,\n",
       "  0.00506275999598383,\n",
       "  0.005016062417942963,\n",
       "  0.004970394235395748,\n",
       "  0.004925723660818879,\n",
       "  0.004882019994310662,\n",
       "  0.004839253584172548,\n",
       "  0.004797395789023928,\n",
       "  0.0047564189413841496,\n",
       "  0.004716296312658964,\n",
       "  0.004677002079471655,\n",
       "  0.00463851129128199,\n",
       "  0.004600799839238862,\n",
       "  0.004563844426215074,\n",
       "  0.00452762253797516,\n",
       "  0.0044921124154294135,\n",
       "  0.004457293027929504,\n",
       "  0.004423144047563144,\n",
       "  0.004389645824407156,\n",
       "  0.00435677936270023,\n",
       "  0.004324526297898347,\n",
       "  0.004292868874577545,\n",
       "  0.0042617899251502995,\n",
       "  0.004231272849363217,\n",
       "  0.004201301594545274,\n",
       "  0.004171860636577069,\n",
       "  0.00414293496155293,\n",
       "  0.004114510048108894,\n",
       "  0.00408657185039074,\n",
       "  0.004059106781637368,\n",
       "  0.004032101698355869,\n",
       "  0.004005543885065627,\n",
       "  0.003979421039589728,\n",
       "  0.003953721258872892,\n",
       "  0.003928433025305982,\n",
       "  0.0039035451935379713,\n",
       "  0.0038790469777570283,\n",
       "  0.003854927939423167,\n",
       "  0.0038311779754355542,\n",
       "  0.003807787306718324,\n",
       "  0.0037847464672093297,\n",
       "  0.0037620462932369493,\n",
       "  0.003739677913270603,\n",
       "  0.0037176327380312405,\n",
       "  0.0036959024509485867,\n",
       "  0.0036744789989524513,\n",
       "  0.0036533545835859106,\n",
       "  0.0036325216524286433,\n",
       "  0.00361197289081915,\n",
       "  0.0035917012138650334,\n",
       "  0.0035716997587309143,\n",
       "  0.003551961877193986,\n",
       "  0.0035324811284575563,\n",
       "  0.0035132512722133268,\n",
       "  0.0034942662619434853,\n",
       "  0.0034755202384540375,\n",
       "  0.003457007523631127,\n",
       "  0.0034387226144123864,\n",
       "  0.0034206601769656867,\n",
       "  0.0034028150410679147,\n",
       "  0.003385182194676684,\n",
       "  0.003367756778688169,\n",
       "  0.00335053408187447,\n",
       "  0.0033335095359941906,\n",
       "  0.0033166787110701238,\n",
       "  0.0033000373108281727,\n",
       "  0.0032835811682918434,\n",
       "  0.0032673062415268586,\n",
       "  0.003251208609530635,\n",
       "  0.003235284468261561,\n",
       "  0.0032195301268031972,\n",
       "  0.00320394200365868,\n",
       "  0.0031885166231708194,\n",
       "  0.00317325061206349,\n",
       "  0.0031581406961001305,\n",
       "  0.003143183696855255,\n",
       "  0.003128376528595091,\n",
       "  0.0031137161952635418,\n",
       "  0.003099199787569844,\n",
       "  0.003084824480174397,\n",
       "  0.0030705875289693827,\n",
       "  0.003056486268450902,\n",
       "  0.003042518109179483,\n",
       "  0.0030286805353259023,\n",
       "  0.003014971102299412,\n",
       "  0.003001387434455516,\n",
       "  0.002987927222880579,\n",
       "  0.002974588223250635,\n",
       "  0.002961368253761842,\n",
       "  0.0029482651931301397,\n",
       "  0.0029352769786577444,\n",
       "  0.0029224016043641826,\n",
       "  0.0029096371191796797,\n",
       "  0.0028969816251987563,\n",
       "  0.0028844332759919967,\n",
       "  0.0028719902749739894,\n",
       "  0.0028596508738255475,\n",
       "  0.0028474133709683416,\n",
       "  0.0028352761100901803,\n",
       "  0.0028232374787192076,\n",
       "  0.0028112959068453606,\n",
       "  0.00279944986558748,\n",
       "  0.0027876978659045373,\n",
       "  0.002776038457349464,\n",
       "  0.002764470226864163,\n",
       "  0.0027529917976142912,\n",
       "  0.002741601827862477,\n",
       "  0.002730299009878674,\n",
       "  0.002719082068886395,\n",
       "  0.0027079497620436134,\n",
       "  0.0026969008774571693,\n",
       "  0.0026859342332295447,\n",
       "  0.0026750486765369182,\n",
       "  0.002664243082737455,\n",
       "  0.0026535163545087976,\n",
       "  0.0026428674210138,\n",
       "  0.0026322952370935273,\n",
       "  0.0026217987824866352,\n",
       "  0.002611377061074219,\n",
       "  0.002601029100149293,\n",
       "  0.00259075394971007,\n",
       "  0.002580550681776244,\n",
       "  0.0025704183897275073,\n",
       "  0.002560356187663551,\n",
       "  0.0025503632097848474,\n",
       "  0.0025404386097935003,\n",
       "  0.002530581560313504,\n",
       "  0.0025207912523297596,\n",
       "  0.0025110668946452357,\n",
       "  0.002501407713355638,\n",
       "  0.002491812951341041,\n",
       "  0.0024822818677738916,\n",
       "  0.0024728137376428512,\n",
       "  0.0024634078512919483,\n",
       "  0.0024540635139745277,\n",
       "  0.0024447800454215113,\n",
       "  0.002435556779423492,\n",
       "  0.0024263930634262068,\n",
       "  0.0024172882581389296,\n",
       "  0.002408241737155385,\n",
       "  0.002399252886586739,\n",
       "  0.0023903211047062805,\n",
       "  0.0023814458016054117,\n",
       "  0.0023726263988605636,\n",
       "  0.0023638623292106795,\n",
       "  0.0023551530362449233,\n",
       "  0.002346497974100264,\n",
       "  0.0023378966071686243,\n",
       "  0.002329348409813268,\n",
       "  0.0023208528660941257,\n",
       "  0.0023124094695017644,\n",
       "  0.0023040177226997215,\n",
       "  0.002295677137274921,\n",
       "  0.0022873872334959093,\n",
       "  0.002279147540078658,\n",
       "  0.0022709575939596814,\n",
       "  0.0022628169400762304,\n",
       "  0.0022547251311533303,\n",
       "  0.0022466817274974424,\n",
       "  0.002238686296796527,\n",
       "  0.0022307384139263063,\n",
       "  0.0022228376607625155,\n",
       "  0.002214983625998956,\n",
       "  0.0022071759049711553,\n",
       "  0.002199414099485459,\n",
       "  0.0021916978176533632,\n",
       "  0.0021840266737309364,\n",
       "  0.002176400287963147,\n",
       "  0.002168818286432955,\n",
       "  0.002161280300915,\n",
       "  0.0021537859687337357,\n",
       "  0.002146334932625884,\n",
       "  0.0021389268406070477,\n",
       "  0.002131561345842365,\n",
       "  0.0021242381065210577,\n",
       "  0.0021169567857347677,\n",
       "  0.0021097170513595417,\n",
       "  0.0021025185759413604,\n",
       "  0.0020953610365850865,\n",
       "  0.0020882441148467315,\n",
       "  0.0020811674966289273,\n",
       "  0.0020741308720795062,\n",
       "  0.002067133935493085,\n",
       "  0.0020601763852155586,\n",
       "  0.0020532579235514074,\n",
       "  0.0020463782566737384,\n",
       "  0.00203953709453696,\n",
       "  0.00203273415079201,\n",
       "  0.0020259691427040654,\n",
       "  0.002019241791072641,\n",
       "  0.0020125518201540103,\n",
       "  0.0020058989575858694,\n",
       "  0.0019992829343141766,\n",
       "  0.0019927034845221014,\n",
       "  0.001986160345561003,\n",
       "  0.001979653257883392,\n",
       "  0.0019731819649778017,\n",
       "  0.0019667462133055084,\n",
       "  0.001960345752239049,\n",
       "  0.0019539803340024734,\n",
       "  0.001947649713613281,\n",
       "  0.001941353648825985,\n",
       "  0.0019350919000772585,\n",
       "  0.001928864230432606,\n",
       "  0.0019226704055345216,\n",
       "  0.0019165101935520762,\n",
       "  0.001910383365131902,\n",
       "  0.0019042896933505176,\n",
       "  0.0018982289536679654,\n",
       "  0.0018922009238827077,\n",
       "  0.0018862053840877535,\n",
       "  0.0018802421166279706,\n",
       "  0.001874310906058548,\n",
       "  0.001868411539104576,\n",
       "  0.001862543804621708,\n",
       "  0.0018567074935578677,\n",
       "  0.0018509023989159736,\n",
       "  0.0018451283157176483,\n",
       "  0.0018393850409678828,\n",
       "  0.0018336723736206242,\n",
       "  0.0018279901145452637,\n",
       "  0.001822338066493991,\n",
       "  0.0018167160340699943,\n",
       "  0.0018111238236964784,\n",
       "  0.0018055612435864737,\n",
       "  0.0018000281037134159,\n",
       "  0.0017945242157824716,\n",
       "  0.0017890493932025875,\n",
       "  0.0017836034510592378,\n",
       "  0.0017781862060878581,\n",
       "  0.001772797476647935,\n",
       "  0.0017674370826977369,\n",
       "  0.0017621048457696668,\n",
       "  0.0017568005889462186,\n",
       "  0.0017515241368365182,\n",
       "  0.0017462753155534287,\n",
       "  0.0017410539526912126,\n",
       "  0.0017358598773037223,\n",
       "  0.001730692919883115,\n",
       "  0.001725552912339066,\n",
       "  0.0017204396879784752,\n",
       "  0.0017153530814856442,\n",
       "  0.0017102929289029185,\n",
       "  0.0017052590676117716,\n",
       "  0.0017002513363143284,\n",
       "  0.0016952695750153068,\n",
       "  0.0016903136250043698,\n",
       "  0.001685383328838877,\n",
       "  0.00168047853032702,\n",
       "  0.0016755990745113327,\n",
       "  0.0016707448076525688,\n",
       "  0.0016659155772139314,\n",
       "  0.0016611112318456454,\n",
       "  0.001656331621369868,\n",
       "  0.00165157659676592,\n",
       "  0.0016468460101558345,\n",
       "  0.0016421397147902133,\n",
       "  0.001637457565034378,\n",
       "  0.001632799416354815,\n",
       "  0.001628165125305901,\n",
       "  0.0016235545495168996,\n",
       "  0.0016189675476792292,\n",
       "  0.0016144039795339836,\n",
       "  0.001609863705859713,\n",
       "  0.0016053465884604396,\n",
       "  0.0016008524901539208,\n",
       "  0.0015963812747601383,\n",
       "  0.0015919328070900154,\n",
       "  0.0015875069529343517,\n",
       "  0.0015831035790529737,\n",
       "  0.0015787225531640916,\n",
       "  0.001574363743933857,\n",
       "  0.0015700270209661215,\n",
       "  0.0015657122547923816,\n",
       "  0.001561419316861915,\n",
       "  0.0015571480795320948,\n",
       "  0.0015528984160588825,\n",
       "  0.0015486702005874924,\n",
       "  0.0015444633081432243,\n",
       "  0.0015402776146224589,\n",
       "  0.0015361129967838122,\n",
       "  0.0015319693322394473,\n",
       "  0.0015278464994465323,\n",
       "  0.001523744377698852,\n",
       "  0.0015196628471185567,\n",
       "  0.0015156017886480552,\n",
       "  0.0015115610840420427,\n",
       "  0.0015075406158596605,\n",
       "  0.0015035402674567887,\n",
       "  0.0014995599229784614,\n",
       "  0.0014955994673514056,\n",
       "  0.001491658786276706,\n",
       "  0.001487737766222577,\n",
       "  0.0014838362944172604,\n",
       "  0.0014799542588420245,\n",
       "  0.0014760915482242814,\n",
       "  0.0014722480520308015,\n",
       "  0.0014684236604610415,\n",
       "  0.0014646182644405647,\n",
       "  0.001460831755614568,\n",
       "  0.0014570640263414985,\n",
       "  0.0014533149696867715,\n",
       "  0.0014495844794165747,\n",
       "  0.0014458724499917667,\n",
       "  0.0014421787765618603,\n",
       "  0.0014385033549590965,\n",
       "  0.001434846081692595,\n",
       "  0.0014312068539425952,\n",
       "  0.0014275855695547724,\n",
       "  0.0014239821270346324,\n",
       "  0.0014203964255419868,\n",
       "  0.0014168283648854987,\n",
       "  0.0014132778455173062,\n",
       "  0.001409744768527713,\n",
       "  0.0014062290356399547,\n",
       "  0.001402730549205029,\n",
       "  0.0013992492121965953,\n",
       "  0.0013957849282059426,\n",
       "  0.001392337601437017,\n",
       "  0.0013889071367015158,\n",
       "  0.001385493439414042,\n",
       "  0.0013820964155873215,\n",
       "  0.001378715971827475,\n",
       "  0.0013753520153293548,\n",
       "  0.0013720044538719307,\n",
       "  0.0013686731958137384,\n",
       "  0.001365358150088379,\n",
       "  0.0013620592262000733,\n",
       "  0.0013587763342192668,\n",
       "  0.0013555093847782893,\n",
       "  0.001352258289067063,\n",
       "  0.0013490229588288597,\n",
       "  0.0013458033063561065,\n",
       "  0.0013425992444862436,\n",
       "  0.0013394106865976206,\n",
       "  0.001336237546605446,\n",
       "  0.0013330797389577782,\n",
       "  0.001329937178631562,\n",
       "  0.0013268097811287066,\n",
       "  0.0013236974624722087,\n",
       "  0.0013206001392023152,\n",
       "  0.0013175177283727298,\n",
       "  0.0013144501475468556,\n",
       "  0.0013113973147940805,\n",
       "  0.001308359148686103,\n",
       "  0.001305335568293291,\n",
       "  0.0013023264931810825,\n",
       "  0.0012993318434064223,\n",
       "  0.0012963515395142348,\n",
       "  0.001293385502533931,\n",
       "  0.0012904336539759532,\n",
       "  0.001287495915828353,\n",
       "  0.0012845722105534027,\n",
       "  0.0012816624610842414,\n",
       "  0.0012787665908215507,\n",
       "  0.001275884523630269,\n",
       "  0.0012730161838363312,\n",
       "  0.0012701614962234422,\n",
       "  0.0012673203860298836,\n",
       "  0.0012644927789453452,\n",
       "  0.0012616786011077914,\n",
       "  0.001258877779100356,\n",
       "  0.0012560902399482634,\n",
       "  0.00125331591111578,\n",
       "  0.001250554720503195,\n",
       "  0.001247806596443827,\n",
       "  0.0012450714677010584,\n",
       "  0.0012423492634653962,\n",
       "  0.0012396399133515605,\n",
       "  0.0012369433473955979,\n",
       "  0.0012342594960520208,\n",
       "  0.0012315882901909729,\n",
       "  0.001228929661095419,\n",
       "  0.0012262835404583587,\n",
       "  0.0012236498603800665,\n",
       "  0.001221028553365353,\n",
       "  0.001218419552320853,\n",
       "  0.0012158227905523337,\n",
       "  0.001213238201762029,\n",
       "  0.0012106657200459928,\n",
       "  0.0012081052798914788,\n",
       "  0.0012055568161743406,\n",
       "  0.0012030202641564506,\n",
       "  0.0012004955594831458,\n",
       "  0.001197982638180693,\n",
       "  0.0011954814366537713,\n",
       "  0.0011929918916829805,\n",
       "  0.0011905139404223683,\n",
       "  0.001188047520396974,\n",
       "  0.0011855925695004005,\n",
       "  0.0011831490259923945,\n",
       "  0.0011807168284964583,\n",
       "  0.0011782959159974723,\n",
       "  0.001175886227839338,\n",
       "  0.0011734877037226444,\n",
       "  0.001171100283702347,\n",
       "  0.0011687239081854682,\n",
       "  0.001166358517928816,\n",
       "  0.0011640040540367197,\n",
       "  0.001161660457958783,\n",
       "  0.001159327671487656,\n",
       "  0.001157005636756823,\n",
       "  0.0011546942962384083,\n",
       "  0.0011523935927409993,\n",
       "  0.0011501034694074846,\n",
       "  0.0011478238697129103,\n",
       "  0.0011455547374623525,\n",
       "  0.0011432960167888056,\n",
       "  0.001141047652151086,\n",
       "  0.0011388095883317524,\n",
       "  0.0011365817704350426,\n",
       "  0.0011343641438848243,\n",
       "  0.0011321566544225607,\n",
       "  0.001129959248105295,\n",
       "  0.0011277718713036439,\n",
       "  0.0011255944706998122,\n",
       "  0.001123426993285619,\n",
       "  0.001121269386360537,\n",
       "  0.0011191215975297495,\n",
       "  0.0011169835747022194,\n",
       "  0.0011148552660887742,\n",
       "  0.001112736620200202,\n",
       "  0.0011106275858453656,\n",
       "  0.0011085281121293257,\n",
       "  0.001106438148451481,\n",
       "  0.0011043576445037213,\n",
       "  0.0011022865502685914,\n",
       "  0.0011002248160174727,\n",
       "  0.001098172392308772,\n",
       "  0.0010961292299861295,\n",
       "  0.0010940952801766352,\n",
       "  0.0010920704942890588,\n",
       "  0.001090054824012094,\n",
       "  0.0010880482213126137,\n",
       "  0.0010860506384339377,\n",
       "  0.0010840620278941117,\n",
       "  0.0010820823424842016,\n",
       "  0.0010801115352665968,\n",
       "  0.0010781495595733252,\n",
       "  0.001076196369004383,\n",
       "  0.001074251917426073,\n",
       "  0.001072316158969356,\n",
       "  0.001070389048028214,\n",
       "  0.0010684705392580234,\n",
       "  0.0010665605875739416,\n",
       "  0.0010646591481493007,\n",
       "  0.0010627661764140185,\n",
       "  0.0010608816280530155,\n",
       "  0.0010590054590046433,\n",
       "  0.0010571376254591264,\n",
       "  0.001055278083857012,\n",
       "  0.0010534267908876317,\n",
       "  0.0010515837034875749,\n",
       "  0.0010497487788391688,\n",
       "  0.0010479219743689734,\n",
       "  0.001046103247746283,\n",
       "  0.0010442925568816398,\n",
       "  0.0010424898599253583,\n",
       "  0.0010406951152660572,\n",
       "  0.0010389082815292032,\n",
       "  0.0010371293175756634,\n",
       "  0.0010353581825002683,\n",
       "  0.0010335948356303864,\n",
       "  0.001031839236524502,\n",
       "  0.0010300913449708105,\n",
       "  0.0010283511209858175,\n",
       "  0.00102661852481295,\n",
       "  0.0010248935169211754,\n",
       "  0.0010231760580036303,\n",
       "  0.0010214661089762594,\n",
       "  0.0010197636309764615,\n",
       "  0.0010180685853617467,\n",
       "  0.0010163809337083998,\n",
       "  0.0010147006378101553,\n",
       "  0.0010130276596768799,\n",
       "  0.0010113619615332637,\n",
       "  0.001009703505817519,\n",
       "  0.0010080522551800908,\n",
       "  0.001006408172482373,\n",
       "  0.0010047712207954332,\n",
       "  0.0010031413633987474,\n",
       "  0.0010015185637789418,\n",
       "  0.0009999027856285433,\n",
       "  0.0009982939928447384,\n",
       "  0.0009966921495281396,\n",
       "  0.00099509721998156,\n",
       "  0.0009935091687087966,\n",
       "  0.0009919279604134208,\n",
       "  0.000990353559997577,\n",
       "  0.0009887859325607893,\n",
       "  0.0009872250433987752,\n",
       "  0.0009856708580022677,\n",
       "  0.0009841233420558456,\n",
       "  0.0009825824614367693,\n",
       "  0.0009810481822138267,\n",
       "  0.000979520470646184,\n",
       "  0.0009779992931822474,\n",
       "  0.0009764846164585279,\n",
       "  0.0009749764072985164,\n",
       "  0.0009734746327115656,\n",
       "  0.0009719792598917783,\n",
       "  0.0009704902562169033,\n",
       "  0.0009690075892472379,\n",
       "  0.0009675312267245397,\n",
       "  0.0009660611365709406,\n",
       "  0.0009645972868878742,\n",
       "  0.0009631396459550038,\n",
       "  0.0009616881822291617,\n",
       "  0.0009602428643432935,\n",
       "  0.0009588036611054086,\n",
       "  0.0009573705414975393,\n",
       "  0.0009559434746747044,\n",
       "  0.0009545224299638809,\n",
       "  0.0009531073768629816,\n",
       "  0.0009516982850398392,\n",
       "  0.000950295124331198,\n",
       "  0.0009488978647417092,\n",
       "  0.0009475064764429364,\n",
       "  0.0009461209297723641,\n",
       "  0.0009447411952324146,\n",
       "  0.0009433672434894695,\n",
       "  0.0009419990453728997,\n",
       "  0.0009406365718740983,\n",
       "  0.0009392797941455228,\n",
       "  0.0009379286834997414,\n",
       "  0.0009365832114084856,\n",
       "  0.0009352433495017102,\n",
       "  0.0009339090695666569,\n",
       "  0.0009325803435469254,\n",
       "  0.0009312571435415501,\n",
       "  0.0009299394418040828,\n",
       "  0.0009286272107416797,\n",
       "  0.0009273204229141965,\n",
       "  0.0009260190510332874,\n",
       "  0.0009247230679615105,\n",
       "  0.0009234324467114384,\n",
       "  0.0009221471604447749,\n",
       "  0.0009208671824714767,\n",
       "  0.0009195924862488809,\n",
       "  0.0009183230453808384,\n",
       "  0.000917058833616851,\n",
       "  0.0009157998248512177,\n",
       "  0.0009145459931221797,\n",
       "  0.0009132973126110787,\n",
       "  0.0009120537576415148,\n",
       "  0.0009108153026785113,\n",
       "  0.0009095819223276851,\n",
       "  0.0009083535913344223,\n",
       "  0.0009071302845830585,\n",
       "  0.0009059119770960636,\n",
       "  0.0009046986440332332,\n",
       "  0.0009034902606908841,\n",
       "  0.0009022868025010551,\n",
       "  0.0009010882450307115,\n",
       "  0.0008998945639809571,\n",
       "  0.0008987057351862485,\n",
       "  0.0008975217346136161,\n",
       "  0.0008963425383618888,\n",
       "  0.0008951681226609238,\n",
       "  0.0008939984638708416,\n",
       "  0.0008928335384812658,\n",
       "  0.000891673323110566,\n",
       "  0.0008905177945051076,\n",
       "  0.0008893669295385049,\n",
       "  0.0008882207052108793,\n",
       "  0.0008870790986481214,\n",
       "  0.0008859420871011591,\n",
       "  0.0008848096479452284,\n",
       "  0.0008836817586791499,\n",
       "  0.0008825583969246095,\n",
       "  0.000881439540425443,\n",
       "  0.000880325167046927,\n",
       "  0.0008792152547750704,\n",
       "  0.000878109781715915,\n",
       "  0.000877008726094836,\n",
       "  0.0008759120662558499,\n",
       "  0.0008748197806609253,\n",
       "  0.0008737318478892979,\n",
       "  0.0008726482466367905,\n",
       "  0.0008715689557151356,\n",
       "  0.0008704939540513046,\n",
       "  0.0008694232206868386,\n",
       "  0.0008683567347771844,\n",
       "  0.0008672944755910352,\n",
       "  0.0008662364225096745,\n",
       "  0.0008651825550263233,\n",
       "  0.0008641328527454939,\n",
       "  0.0008630872953823439,\n",
       "  0.0008620458627620376,\n",
       "  0.0008610085348191097,\n",
       "  0.0008599752915968327,\n",
       "  0.0008589461132465887,\n",
       "  0.0008579209800272443,\n",
       "  0.000856899872304531,\n",
       "  0.000855882770550427,\n",
       "  0.0008548696553425452,\n",
       "  0.0008538605073635223,\n",
       "  0.0008528553074004143,\n",
       "  0.0008518540363440937,\n",
       "  0.0008508566751886516,\n",
       "  0.0008498632050308022,\n",
       "  0.0008488736070692923,\n",
       "  0.0008478878626043134,\n",
       "  0.0008469059530369172,\n",
       "  0.0008459278598684366,\n",
       "  0.000844953564699907,\n",
       "  0.000843983049231494,\n",
       "  0.0008430162952619227,\n",
       "  0.0008420532846879119,\n",
       "  0.0008410939995036104,\n",
       "  0.0008401384218000376,\n",
       "  0.0008391865337645271,\n",
       "  0.0008382383176801734,\n",
       "  0.0008372937559252833,\n",
       "  0.000836352830972829,\n",
       "  0.0008354155253899043,\n",
       "  0.0008344818218371868,\n",
       "  0.0008335517030683996,\n",
       "  0.000832625151929779,\n",
       "  0.000831702151359545,\n",
       "  0.0008307826843873737,\n",
       "  0.0008298667341338734,\n",
       "  0.0008289542838100656,\n",
       "  0.0008280453167168659,\n",
       "  0.0008271398162445709,\n",
       "  0.0008262377658723474,\n",
       "  0.000825339149167723,\n",
       "  0.0008244439497860825,\n",
       "  0.0008235521514701655,\n",
       "  0.0008226637380495667,\n",
       "  0.0008217786934402415,\n",
       "  0.0008208970016440121,\n",
       "  0.0008200186467480766,\n",
       "  0.0008191436129245247,\n",
       "  0.0008182718844298505,\n",
       "  0.0008174034456044733,\n",
       "  0.0008165382808722586,\n",
       "  0.0008156763747400427,\n",
       "  0.0008148177117971599,\n",
       "  0.0008139622767149731,\n",
       "  0.0008131100542464065,\n",
       "  0.0008122610292254817,\n",
       "  0.0008114151865668563,\n",
       "  0.0008105725112653645,\n",
       "  0.0008097329883955628,\n",
       "  0.0008088966031112755,\n",
       "  0.0008080633406451441,\n",
       "  0.0008072331863081808,\n",
       "  0.0008064061254893227,\n",
       "  0.0008055821436549888,\n",
       "  0.0008047612263486412,\n",
       "  0.0008039433591903479,\n",
       "  0.0008031285278763472,\n",
       "  0.000802316718178616,\n",
       "  0.0008015079159444425,\n",
       "  0.000800702107095996,\n",
       "  0.0007998992776299051,\n",
       "  0.0007990994136168351,\n",
       "  0.0007983025012010685,\n",
       "  0.000797508526600089,\n",
       "  0.0007967174761041665,\n",
       "  0.0007959293360759452,\n",
       "  0.0007951440929500353,\n",
       "  0.0007943617332326053,\n",
       "  0.000793582243500977,\n",
       "  0.0007928056104032243,\n",
       "  0.0007920318206577735,\n",
       "  0.0007912608610530051,\n",
       "  0.0007904927184468596,\n",
       "  0.0007897273797664445,\n",
       "  0.0007889648320076442,\n",
       "  0.0007882050622347317,\n",
       "  0.0007874480575799834,\n",
       "  0.000786693805243295,\n",
       "  0.0007859422924918013,\n",
       "  0.0007851935066594959,\n",
       "  0.0007844474351468564,\n",
       "  0.0007837040654204685,\n",
       "  0.0007829633850126543,\n",
       "  0.0007822253815211028,\n",
       "  0.0007814900426085007,\n",
       "  0.0007807573560021691,\n",
       "  0.0007800273094936976,\n",
       "  0.0007792998909385844,\n",
       "  0.0007785750882558766,\n",
       "  0.0007778528894278134,\n",
       "  0.0007771332824994715,\n",
       "  0.0007764162555784108,\n",
       "  0.0007757017968343256,\n",
       "  0.0007749898944986944,\n",
       "  0.0007742805368644337,\n",
       "  0.0007735737122855538,\n",
       "  0.0007728694091768158,\n",
       "  0.0007721676160133906,\n",
       "  0.0007714683213305216,\n",
       "  0.0007707715137231872,\n",
       "  0.0007700771818457661,\n",
       "  0.0007693853144117053,\n",
       "  0.0007686959001931892,\n",
       "  0.000768008928020811,\n",
       "  0.0007673243867832453,\n",
       "  0.0007666422654269245,\n",
       "  0.0007659625529557147,\n",
       "  0.0007652852384305948,\n",
       "  0.000764610310969338,\n",
       "  0.0007639377597461945,\n",
       "  0.0007632675739915746,\n",
       "  0.0007625997429917372,\n",
       "  0.0007619342560884771,\n",
       "  0.0007612711026788143,\n",
       "  0.0007606102722146877,\n",
       "  0.0007599517542026472,\n",
       "  0.00075929553820355,\n",
       "  0.000758641613832258,\n",
       "  0.0007579899707573361,\n",
       "  0.0007573405987007545,\n",
       "  0.0007566934874375894,\n",
       "  0.0007560486267957292,\n",
       "  0.0007554060066555783,\n",
       "  0.000754765616949768,\n",
       "  0.0007541274476628626,\n",
       "  0.0007534914888310733,\n",
       "  0.0007528577305419695,\n",
       "  0.0007522261629341937,\n",
       "  0.0007515967761971785,\n",
       "  0.0007509695605708628,\n",
       "  0.0007503445063454133,\n",
       "  0.0007497216038609445,\n",
       "  0.000749100843507241,\n",
       "  0.0007484822157234833,\n",
       "  0.0007478657109979731,\n",
       "  0.0007472513198678608,\n",
       "  0.0007466390329188743,\n",
       "  0.0007460288407850513,\n",
       "  0.0007454207341484699,\n",
       "  0.0007448147037389834,\n",
       "  0.0007442107403339557,\n",
       "  0.0007436088347579983,\n",
       "  0.0007430089778827082,\n",
       "  0.000742411160626409,\n",
       "  0.0007418153739538918,\n",
       "  0.0007412216088761583,\n",
       "  0.0007406298564501655,\n",
       "  0.0007400401077785713,\n",
       "  0.0007394523540094831,\n",
       "  0.0007388665863362054,\n",
       "  0.0007382827959969915,\n",
       "  0.000737700974274794,\n",
       "  0.0007371211124970198,\n",
       "  0.0007365432020352836,\n",
       "  0.0007359672343051642,\n",
       "  0.000735393200765963,\n",
       "  0.0007348210929204616,\n",
       "  0.0007342509023146835,\n",
       "  0.0007336826205376555,\n",
       "  0.0007331162392211702,\n",
       "  0.0007325517500395515,\n",
       "  0.0007319891447094198,\n",
       "  0.00073142841498946,\n",
       "  0.0007308695526801889,\n",
       "  0.0007303125496237266,\n",
       "  0.0007297573977035667,\n",
       "  0.0007292040888443492,\n",
       "  0.0007286526150116348,\n",
       "  0.0007281029682116798,\n",
       "  0.000727555140491212,\n",
       "  0.0007270091239372104,\n",
       "  0.0007264649106766817,\n",
       "  0.0007259224928764427,\n",
       "  0.0007253818627429013,\n",
       "  0.0007248430125218392,\n",
       "  0.0007243059344981963,\n",
       "  0.0007237706209958557,\n",
       "  0.0007232370643774312,\n",
       "  0.0007227052570440543,\n",
       "  0.0007221751914351634,\n",
       "  0.0007216468600282948,\n",
       "  0.0007211202553388734,\n",
       "  0.0007205953699200058,\n",
       "  0.0007200721963622743,\n",
       "  0.0007195507272935315,\n",
       "  0.0007190309553786975,\n",
       "  0.0007185128733195565,\n",
       "  0.0007179964738545552,\n",
       "  0.000717481749758604,\n",
       "  0.0007169686938428761,\n",
       "  0.0007164572989546114,\n",
       "  0.0007159475579769177,\n",
       "  0.0007154394638285768,\n",
       "  0.0007149330094638493,\n",
       "  0.0007144281878722805,\n",
       "  0.0007139249920785096,\n",
       "  0.0007134234151420769,\n",
       "  0.0007129234501572348,\n",
       "  0.0007124250902527582,\n",
       "  0.000711928328591757,\n",
       "  0.0007114331583714889,\n",
       "  0.0007109395728231736,\n",
       "  0.0007104475652118081,\n",
       "  0.0007099571288359836,\n",
       "  0.000709468257027702,\n",
       "  0.0007089809431521947,\n",
       "  0.0007084951806077429,\n",
       "  0.0007080109628254964,\n",
       "  0.0007075282832692966,\n",
       "  0.0007070471354354986,\n",
       "  0.0007065675128527943,\n",
       "  0.0007060894090820382,\n",
       "  0.0007056128177160712,\n",
       "  0.0007051377323795489,\n",
       "  0.0007046641467287684,\n",
       "  0.0007041920544514963,\n",
       "  0.0007037214492667998,\n",
       "  0.0007032523249248755,\n",
       "  0.0007027846752068823,\n",
       "  0.0007023184939247722,\n",
       "  0.000701853774921126,\n",
       "  0.0007013905120689854,\n",
       "  0.0007009286992716895,\n",
       "  0.0007004683304627108,\n",
       "  0.0007000093996054922,\n",
       "  0.0006995519006932857,\n",
       "  0.0006990958277489903,\n",
       "  0.0006986411748249935,\n",
       "  0.0006981879360030101,\n",
       "  0.0006977361053939259,\n",
       "  0.0006972856771376393,\n",
       "  0.0006968366454029053,\n",
       "  0.0006963890043871796,\n",
       "  0.0006959427483164639,\n",
       "  0.0006954978714451526,\n",
       "  0.0006950543680558791,\n",
       "  0.0006946122324593649,\n",
       "  0.0006941714589942674,\n",
       "  0.0006937320420270299,\n",
       "  0.0006932939759517316,\n",
       "  0.0006928572551899405,\n",
       "  0.000692421874190564,\n",
       "  0.0006919878274297027,\n",
       "  0.0006915551094105044,\n",
       "  0.0006911237146630181,\n",
       "  0.0006906936377440506,\n",
       "  0.000690264873237022,\n",
       "  0.0006898374157518237,\n",
       "  0.0006894112599246749,\n",
       "  0.0006889864004179833,\n",
       "  0.0006885628319202035,\n",
       "  0.0006881405491456976,\n",
       "  0.0006877195468345967,\n",
       "  0.0006872998197526621,\n",
       "  0.000686881362691149,\n",
       "  0.0006864641704666699,\n",
       "  0.0006860482379210577,\n",
       "  0.0006856335599212326,\n",
       "  0.0006852201313590664,\n",
       "  0.0006848079471512499,\n",
       "  0.0006843970022391601,\n",
       "  0.0006839872915887279,\n",
       "  0.0006835788101903078,\n",
       "  0.0006831715530585464,\n",
       "  0.0006827655152322536,\n",
       "  0.0006823606917742731,\n",
       "  0.0006819570777713544,\n",
       "  0.0006815546683340253,\n",
       "  0.0006811534585964652,\n",
       "  0.0006807534437163787,\n",
       "  0.0006803546188748707,\n",
       "  0.0006799569792763215,\n",
       "  0.0006795605201482624,\n",
       "  0.0006791652367412538,\n",
       "  0.0006787711243287606,\n",
       "  0.000678378178207033,\n",
       "  0.0006779863936949823,\n",
       "  0.0006775957661340629,\n",
       "  0.0006772062908881513,\n",
       "  0.0006768179633434271,\n",
       "  0.0006764307789082545,\n",
       "  0.000676044733013065,\n",
       "  0.0006756598211102393,\n",
       "  0.0006752760386739917,\n",
       "  0.000674893381200254,\n",
       "  0.0006745118442065599,\n",
       "  0.0006741314232319315,\n",
       "  0.0006737521138367641,\n",
       "  0.0006733739116027138,\n",
       "  0.0006729968121325847,\n",
       "  ...])"
      ]
     },
     "execution_count": 60,
     "metadata": {},
     "output_type": "execute_result"
    }
   ],
   "source": [
    "theta, J_history"
   ]
  },
  {
   "cell_type": "code",
   "execution_count": 39,
   "metadata": {
    "nbgrader": {
     "grade": false,
     "grade_id": "cell-827d1de1293be51f",
     "locked": true,
     "schema_version": 1,
     "solution": false
    }
   },
   "outputs": [],
   "source": [
    "theta_pinv = pinv(X_train ,y_train)\n",
    "J_pinv = compute_cost(X_train, y_train, theta_pinv)"
   ]
  },
  {
   "cell_type": "code",
   "execution_count": 40,
   "metadata": {},
   "outputs": [
    {
     "data": {
      "text/plain": [
       "(array([-0.03411455, -0.05818823,  0.02250117,  0.24344364,  0.00145099,\n",
       "         0.000328  ,  0.11419207,  0.02751499,  0.01169455,  0.13081939,\n",
       "         0.03199113, -0.0477569 ,  0.00438559, -0.01687659,  0.05118819,\n",
       "        -0.03060794,  0.02500282, -0.02715937]),\n",
       " 0.00046987767552309157)"
      ]
     },
     "execution_count": 40,
     "metadata": {},
     "output_type": "execute_result"
    }
   ],
   "source": [
    "theta_pinv,J_pinv"
   ]
  },
  {
   "cell_type": "markdown",
   "metadata": {},
   "source": [
    "We can use visualization to make sure the code works well. Notice we use logarithmic scale for the number of iterations, since gradient descent converges after ~500 iterations."
   ]
  },
  {
   "cell_type": "code",
   "execution_count": 41,
   "metadata": {
    "nbgrader": {
     "grade": false,
     "grade_id": "cell-4fa207b72d2445c2",
     "locked": true,
     "schema_version": 1,
     "solution": false
    }
   },
   "outputs": [
    {
     "data": {
      "image/png": "[encoded data removed]",
      "text/plain": [
       "<Figure size 1400x800 with 1 Axes>"
      ]
     },
     "metadata": {},
     "output_type": "display_data"
    }
   ],
   "source": [
    "plt.plot(np.arange(iterations), J_history)\n",
    "plt.xscale('log')\n",
    "plt.xlabel('Iterations')\n",
    "plt.ylabel('Loss')\n",
    "plt.title('Loss as a function of iterations - multivariate linear regression')\n",
    "plt.hlines(y = J_pinv, xmin = 0, xmax = len(J_history), color='r',\n",
    "           linewidth = 1, linestyle = 'dashed')\n",
    "plt.show()"
   ]
  },
  {
   "cell_type": "markdown",
   "metadata": {
    "nbgrader": {
     "grade": false,
     "grade_id": "cell-cad652570cee3629",
     "locked": true,
     "schema_version": 1,
     "solution": false
    }
   },
   "source": [
    "## Part 3: Find best features for regression (20 points)\n",
    "\n",
    "Adding additional features to our regression model makes it more complicated but does not necessarily improves performance. Find the combination of two features that best minimizes the loss. First, we will reload the dataset as a dataframe in order to access the feature names. Use the dataframe with the relevant features as the input to the `generate_couples` and obtain a list of all possible feature couples."
   ]
  },
  {
   "cell_type": "code",
   "execution_count": 42,
   "metadata": {},
   "outputs": [
    {
     "data": {
      "text/html": [
       "<div>\n",
       "<style scoped>\n",
       "    .dataframe tbody tr th:only-of-type {\n",
       "        vertical-align: middle;\n",
       "    }\n",
       "\n",
       "    .dataframe tbody tr th {\n",
       "        vertical-align: top;\n",
       "    }\n",
       "\n",
       "    .dataframe thead th {\n",
       "        text-align: right;\n",
       "    }\n",
       "</style>\n",
       "<table border=\"1\" class=\"dataframe\">\n",
       "  <thead>\n",
       "    <tr style=\"text-align: right;\">\n",
       "      <th></th>\n",
       "      <th>bedrooms</th>\n",
       "      <th>bathrooms</th>\n",
       "      <th>sqft_living</th>\n",
       "      <th>sqft_lot</th>\n",
       "      <th>floors</th>\n",
       "      <th>waterfront</th>\n",
       "      <th>view</th>\n",
       "      <th>condition</th>\n",
       "      <th>grade</th>\n",
       "      <th>sqft_above</th>\n",
       "      <th>yr_built</th>\n",
       "      <th>yr_renovated</th>\n",
       "      <th>zipcode</th>\n",
       "      <th>lat</th>\n",
       "      <th>long</th>\n",
       "      <th>sqft_living15</th>\n",
       "      <th>sqft_lot15</th>\n",
       "    </tr>\n",
       "  </thead>\n",
       "  <tbody>\n",
       "    <tr>\n",
       "      <th>0</th>\n",
       "      <td>3</td>\n",
       "      <td>1.00</td>\n",
       "      <td>1180</td>\n",
       "      <td>5650</td>\n",
       "      <td>1.0</td>\n",
       "      <td>0</td>\n",
       "      <td>0</td>\n",
       "      <td>3</td>\n",
       "      <td>7</td>\n",
       "      <td>1180</td>\n",
       "      <td>1955</td>\n",
       "      <td>0</td>\n",
       "      <td>98178</td>\n",
       "      <td>47.5112</td>\n",
       "      <td>-122.257</td>\n",
       "      <td>1340</td>\n",
       "      <td>5650</td>\n",
       "    </tr>\n",
       "    <tr>\n",
       "      <th>1</th>\n",
       "      <td>3</td>\n",
       "      <td>2.25</td>\n",
       "      <td>2570</td>\n",
       "      <td>7242</td>\n",
       "      <td>2.0</td>\n",
       "      <td>0</td>\n",
       "      <td>0</td>\n",
       "      <td>3</td>\n",
       "      <td>7</td>\n",
       "      <td>2170</td>\n",
       "      <td>1951</td>\n",
       "      <td>1991</td>\n",
       "      <td>98125</td>\n",
       "      <td>47.7210</td>\n",
       "      <td>-122.319</td>\n",
       "      <td>1690</td>\n",
       "      <td>7639</td>\n",
       "    </tr>\n",
       "    <tr>\n",
       "      <th>2</th>\n",
       "      <td>2</td>\n",
       "      <td>1.00</td>\n",
       "      <td>770</td>\n",
       "      <td>10000</td>\n",
       "      <td>1.0</td>\n",
       "      <td>0</td>\n",
       "      <td>0</td>\n",
       "      <td>3</td>\n",
       "      <td>6</td>\n",
       "      <td>770</td>\n",
       "      <td>1933</td>\n",
       "      <td>0</td>\n",
       "      <td>98028</td>\n",
       "      <td>47.7379</td>\n",
       "      <td>-122.233</td>\n",
       "      <td>2720</td>\n",
       "      <td>8062</td>\n",
       "    </tr>\n",
       "    <tr>\n",
       "      <th>3</th>\n",
       "      <td>4</td>\n",
       "      <td>3.00</td>\n",
       "      <td>1960</td>\n",
       "      <td>5000</td>\n",
       "      <td>1.0</td>\n",
       "      <td>0</td>\n",
       "      <td>0</td>\n",
       "      <td>5</td>\n",
       "      <td>7</td>\n",
       "      <td>1050</td>\n",
       "      <td>1965</td>\n",
       "      <td>0</td>\n",
       "      <td>98136</td>\n",
       "      <td>47.5208</td>\n",
       "      <td>-122.393</td>\n",
       "      <td>1360</td>\n",
       "      <td>5000</td>\n",
       "    </tr>\n",
       "    <tr>\n",
       "      <th>4</th>\n",
       "      <td>3</td>\n",
       "      <td>2.00</td>\n",
       "      <td>1680</td>\n",
       "      <td>8080</td>\n",
       "      <td>1.0</td>\n",
       "      <td>0</td>\n",
       "      <td>0</td>\n",
       "      <td>3</td>\n",
       "      <td>8</td>\n",
       "      <td>1680</td>\n",
       "      <td>1987</td>\n",
       "      <td>0</td>\n",
       "      <td>98074</td>\n",
       "      <td>47.6168</td>\n",
       "      <td>-122.045</td>\n",
       "      <td>1800</td>\n",
       "      <td>7503</td>\n",
       "    </tr>\n",
       "  </tbody>\n",
       "</table>\n",
       "</div>"
      ],
      "text/plain": [
       "   bedrooms  bathrooms  sqft_living  sqft_lot  floors  waterfront  view  \\\n",
       "0         3       1.00         1180      5650     1.0           0     0   \n",
       "1         3       2.25         2570      7242     2.0           0     0   \n",
       "2         2       1.00          770     10000     1.0           0     0   \n",
       "3         4       3.00         1960      5000     1.0           0     0   \n",
       "4         3       2.00         1680      8080     1.0           0     0   \n",
       "\n",
       "   condition  grade  sqft_above  yr_built  yr_renovated  zipcode      lat  \\\n",
       "0          3      7        1180      1955             0    98178  47.5112   \n",
       "1          3      7        2170      1951          1991    98125  47.7210   \n",
       "2          3      6         770      1933             0    98028  47.7379   \n",
       "3          5      7        1050      1965             0    98136  47.5208   \n",
       "4          3      8        1680      1987             0    98074  47.6168   \n",
       "\n",
       "      long  sqft_living15  sqft_lot15  \n",
       "0 -122.257           1340        5650  \n",
       "1 -122.319           1690        7639  \n",
       "2 -122.233           2720        8062  \n",
       "3 -122.393           1360        5000  \n",
       "4 -122.045           1800        7503  "
      ]
     },
     "execution_count": 42,
     "metadata": {},
     "output_type": "execute_result"
    }
   ],
   "source": [
    "columns_to_drop = ['price', 'id', 'date']\n",
    "all_features = df.drop(columns=columns_to_drop)\n",
    "all_features.head(5)"
   ]
  },
  {
   "cell_type": "code",
   "execution_count": 43,
   "metadata": {},
   "outputs": [],
   "source": [
    "import itertools\n",
    "\n",
    "def generate_couples(features):\n",
    "    couples=list(itertools.combinations(features,2))\n",
    "    return couples"
   ]
  },
  {
   "cell_type": "code",
   "execution_count": 44,
   "metadata": {},
   "outputs": [
    {
     "name": "stdout",
     "output_type": "stream",
     "text": [
      "Number of couples: 136\n"
     ]
    }
   ],
   "source": [
    "couples = generate_couples(all_features)\n",
    "print(\"Number of couples: {}\".format(len(couples)))"
   ]
  },
  {
   "cell_type": "markdown",
   "metadata": {},
   "source": [
    "Complete the function `find_best_couple`. You are free to use any arguments you need."
   ]
  },
  {
   "cell_type": "code",
   "execution_count": 45,
   "metadata": {},
   "outputs": [],
   "source": [
    "def find_best_couple():\n",
    "    \"\"\"\n",
    "    Iterate over all possible couples and obtain the learned parameters \n",
    "    theta by using the training set. Find the couple that minimizes the\n",
    "    error on the validation set. For better performance, you should use the \n",
    "    efficient implementation of gradient descent. Don't forget the bias trick.\n",
    "\n",
    "    Returns:\n",
    "    - The names of the best features.\n",
    "    \"\"\"\n",
    "    iterations=40000\n",
    "    score={}\n",
    "    best_couples = None\n",
    "    for i in couples:\n",
    "        \n",
    "        \n",
    "        y = df['price'].values\n",
    "        X=df[list(i)].values\n",
    "        X, y = preprocess(X, y)\n",
    "        np.random.seed(42)\n",
    "        indices = np.random.permutation(X.shape[0])\n",
    "        idx_train, idx_val = indices[:int(0.8*X.shape[0])], indices[int(0.8*X.shape[0]):]\n",
    "        X_train, X_val = X[idx_train,:], X[idx_val,:]\n",
    "        y_train, y_val = y[idx_train], y[idx_val]\n",
    "        X_train=np.column_stack((np.ones(X_train.shape[0]),X_train))\n",
    "        X_val=np.column_stack((np.ones(X_val.shape[0]),X_val))\n",
    "        np.random.seed(42)\n",
    "        randomtheta = np.random.random(size=(X_train.shape[1]))\n",
    "        \n",
    "        alpha_dict=find_best_alpha(X_train, y_train, X_val, y_val, iterations)\n",
    "        best_alpha = min(alpha_dict, key=alpha_dict.get)\n",
    "        \n",
    "        newtheta, J_history = efficient_gradient_descent(X_train ,y_train, randomtheta, best_alpha, iterations)\n",
    "        \n",
    "        score[i]=J_history[-1]\n",
    "        \n",
    "        \n",
    "    best_couples = min(score, key=score.get)\n",
    "    return best_couples"
   ]
  },
  {
   "cell_type": "code",
   "execution_count": 46,
   "metadata": {},
   "outputs": [
    {
     "data": {
      "text/plain": [
       "('sqft_living', 'lat')"
      ]
     },
     "execution_count": 46,
     "metadata": {},
     "output_type": "execute_result"
    }
   ],
   "source": [
    "find_best_couple()"
   ]
  }
 ],
 "metadata": {
  "celltoolbar": "Create Assignment",
  "kernelspec": {
   "display_name": "Python 3 (ipykernel)",
   "language": "python",
   "name": "python3"
  },
  "language_info": {
   "codemirror_mode": {
    "name": "ipython",
    "version": 3
   },
   "file_extension": ".py",
   "mimetype": "text/x-python",
   "name": "python",
   "nbconvert_exporter": "python",
   "pygments_lexer": "ipython3",
   "version": "3.9.13"
  }
 },
 "nbformat": 4,
 "nbformat_minor": 4
}
